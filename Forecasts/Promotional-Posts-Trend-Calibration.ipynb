{
 "cells": [
  {
   "cell_type": "markdown",
   "metadata": {},
   "source": [
    "# Promotional Posts: Trend Calibration\n",
    "Using Facebook Prophet's cross-validation tool, we assess prediction performance on a horizon of 365 days by training the model on the first 365 days of the data set then making predictions every 180 days. For our case, we only need 1 forecast from 2-27-2019 to 2-27-2020.\n",
    "\n",
    "## Method\n",
    "The objective of this analysis is to determine the optimal changepoint value parameter when instantiating the Prophet model object. This is done by plotting a range of changepoint values vs the average margin error. The changepoint value with the lowest average margin error will be the optimal parameter for the Prophet model.\n",
    "\n",
    "First, we create a range of changepoint values that produce a viable trend model. Next, we loop through the range, test the model using each value, and produce a cross-valudation data frame containing actual and predicted y-values. From there, we take the columns for y-actual and y-predicted and calculate the error margin for each row: \n",
    "\n",
    "``` (actual - theoretical)/theoretical ``` \n",
    "\n",
    "Lastly, we create a plot of changepoint values vs average margin error.\n",
    "\n",
    "## Steps\n",
    "1. Clean/Re-label DataFrame and Isolate one criterion for the outcome column (i.e. \"Impressions\").\n",
    "1. Create and Loop through a range of viable changepoint values.\n",
    "1. Test Prophet Object (Model) with each changepoint value.\n",
    "1. Plot changepoint values vs average margin error"
   ]
  },
  {
   "cell_type": "markdown",
   "metadata": {},
   "source": [
    "### Import Dependencies"
   ]
  },
  {
   "cell_type": "code",
   "execution_count": 113,
   "metadata": {},
   "outputs": [],
   "source": [
    "from fbprophet import Prophet\n",
    "from fbprophet.plot import add_changepoints_to_plot\n",
    "from fbprophet.diagnostics import cross_validation\n",
    "\n",
    "\n",
    "import pandas as pd\n",
    "from matplotlib import pyplot as plt\n",
    "import numpy as np\n",
    "from numpy import mean"
   ]
  },
  {
   "cell_type": "code",
   "execution_count": 2,
   "metadata": {},
   "outputs": [
    {
     "data": {
      "text/html": [
       "<div>\n",
       "<style scoped>\n",
       "    .dataframe tbody tr th:only-of-type {\n",
       "        vertical-align: middle;\n",
       "    }\n",
       "\n",
       "    .dataframe tbody tr th {\n",
       "        vertical-align: top;\n",
       "    }\n",
       "\n",
       "    .dataframe thead th {\n",
       "        text-align: right;\n",
       "    }\n",
       "</style>\n",
       "<table border=\"1\" class=\"dataframe\">\n",
       "  <thead>\n",
       "    <tr style=\"text-align: right;\">\n",
       "      <th></th>\n",
       "      <th>Unnamed: 0</th>\n",
       "      <th>Tweet permalink</th>\n",
       "      <th>Tweet text</th>\n",
       "      <th>Type</th>\n",
       "      <th>time</th>\n",
       "      <th>impressions</th>\n",
       "      <th>engagements</th>\n",
       "      <th>engagement rate</th>\n",
       "      <th>retweets</th>\n",
       "      <th>replies</th>\n",
       "      <th>likes</th>\n",
       "      <th>user profile clicks</th>\n",
       "      <th>url clicks</th>\n",
       "      <th>hashtag clicks</th>\n",
       "      <th>detail expands</th>\n",
       "      <th>permalink clicks</th>\n",
       "      <th>follows</th>\n",
       "      <th>media views</th>\n",
       "      <th>media engagements</th>\n",
       "    </tr>\n",
       "  </thead>\n",
       "  <tbody>\n",
       "    <tr>\n",
       "      <td>0</td>\n",
       "      <td>0</td>\n",
       "      <td>https://twitter.com/GoldieChan/status/94776617...</td>\n",
       "      <td>HAPPY NEW YEAR 🎉\\nMay all your dreams come tru...</td>\n",
       "      <td>2.0</td>\n",
       "      <td>2018-01-01 09:47:00+00:00</td>\n",
       "      <td>532.0</td>\n",
       "      <td>11.0</td>\n",
       "      <td>0.020677</td>\n",
       "      <td>0.0</td>\n",
       "      <td>0.0</td>\n",
       "      <td>3.0</td>\n",
       "      <td>1.0</td>\n",
       "      <td>0.0</td>\n",
       "      <td>0.0</td>\n",
       "      <td>1.0</td>\n",
       "      <td>0.0</td>\n",
       "      <td>0</td>\n",
       "      <td>45</td>\n",
       "      <td>6</td>\n",
       "    </tr>\n",
       "    <tr>\n",
       "      <td>1</td>\n",
       "      <td>1</td>\n",
       "      <td>https://twitter.com/GoldieChan/status/94825542...</td>\n",
       "      <td>“I've learned that you shouldn't go through li...</td>\n",
       "      <td>3.0</td>\n",
       "      <td>2018-01-02 18:11:00+00:00</td>\n",
       "      <td>409.0</td>\n",
       "      <td>6.0</td>\n",
       "      <td>0.014670</td>\n",
       "      <td>2.0</td>\n",
       "      <td>0.0</td>\n",
       "      <td>1.0</td>\n",
       "      <td>0.0</td>\n",
       "      <td>0.0</td>\n",
       "      <td>0.0</td>\n",
       "      <td>3.0</td>\n",
       "      <td>0.0</td>\n",
       "      <td>0</td>\n",
       "      <td>0</td>\n",
       "      <td>0</td>\n",
       "    </tr>\n",
       "    <tr>\n",
       "      <td>2</td>\n",
       "      <td>2</td>\n",
       "      <td>https://twitter.com/GoldieChan/status/94829378...</td>\n",
       "      <td>This 👇 https://t.co/4niBsvseUQ</td>\n",
       "      <td>1.0</td>\n",
       "      <td>2018-01-02 20:43:00+00:00</td>\n",
       "      <td>366.0</td>\n",
       "      <td>1.0</td>\n",
       "      <td>0.002732</td>\n",
       "      <td>0.0</td>\n",
       "      <td>0.0</td>\n",
       "      <td>1.0</td>\n",
       "      <td>0.0</td>\n",
       "      <td>0.0</td>\n",
       "      <td>0.0</td>\n",
       "      <td>0.0</td>\n",
       "      <td>0.0</td>\n",
       "      <td>0</td>\n",
       "      <td>0</td>\n",
       "      <td>0</td>\n",
       "    </tr>\n",
       "    <tr>\n",
       "      <td>3</td>\n",
       "      <td>3</td>\n",
       "      <td>https://twitter.com/GoldieChan/status/94835616...</td>\n",
       "      <td>Where should I go next? #travel https://t.co/D...</td>\n",
       "      <td>3.0</td>\n",
       "      <td>2018-01-03 00:51:00+00:00</td>\n",
       "      <td>465.0</td>\n",
       "      <td>7.0</td>\n",
       "      <td>0.015054</td>\n",
       "      <td>0.0</td>\n",
       "      <td>0.0</td>\n",
       "      <td>0.0</td>\n",
       "      <td>0.0</td>\n",
       "      <td>0.0</td>\n",
       "      <td>0.0</td>\n",
       "      <td>0.0</td>\n",
       "      <td>0.0</td>\n",
       "      <td>0</td>\n",
       "      <td>7</td>\n",
       "      <td>7</td>\n",
       "    </tr>\n",
       "    <tr>\n",
       "      <td>4</td>\n",
       "      <td>4</td>\n",
       "      <td>https://twitter.com/GoldieChan/status/94840888...</td>\n",
       "      <td>DONE with first day of #work back. Current fee...</td>\n",
       "      <td>2.0</td>\n",
       "      <td>2018-01-03 04:21:00+00:00</td>\n",
       "      <td>528.0</td>\n",
       "      <td>12.0</td>\n",
       "      <td>0.022727</td>\n",
       "      <td>0.0</td>\n",
       "      <td>0.0</td>\n",
       "      <td>1.0</td>\n",
       "      <td>0.0</td>\n",
       "      <td>0.0</td>\n",
       "      <td>0.0</td>\n",
       "      <td>0.0</td>\n",
       "      <td>0.0</td>\n",
       "      <td>0</td>\n",
       "      <td>11</td>\n",
       "      <td>11</td>\n",
       "    </tr>\n",
       "  </tbody>\n",
       "</table>\n",
       "</div>"
      ],
      "text/plain": [
       "   Unnamed: 0                                    Tweet permalink  \\\n",
       "0           0  https://twitter.com/GoldieChan/status/94776617...   \n",
       "1           1  https://twitter.com/GoldieChan/status/94825542...   \n",
       "2           2  https://twitter.com/GoldieChan/status/94829378...   \n",
       "3           3  https://twitter.com/GoldieChan/status/94835616...   \n",
       "4           4  https://twitter.com/GoldieChan/status/94840888...   \n",
       "\n",
       "                                          Tweet text  Type  \\\n",
       "0  HAPPY NEW YEAR 🎉\\nMay all your dreams come tru...   2.0   \n",
       "1  “I've learned that you shouldn't go through li...   3.0   \n",
       "2                     This 👇 https://t.co/4niBsvseUQ   1.0   \n",
       "3  Where should I go next? #travel https://t.co/D...   3.0   \n",
       "4  DONE with first day of #work back. Current fee...   2.0   \n",
       "\n",
       "                        time  impressions  engagements  engagement rate  \\\n",
       "0  2018-01-01 09:47:00+00:00        532.0         11.0         0.020677   \n",
       "1  2018-01-02 18:11:00+00:00        409.0          6.0         0.014670   \n",
       "2  2018-01-02 20:43:00+00:00        366.0          1.0         0.002732   \n",
       "3  2018-01-03 00:51:00+00:00        465.0          7.0         0.015054   \n",
       "4  2018-01-03 04:21:00+00:00        528.0         12.0         0.022727   \n",
       "\n",
       "   retweets  replies  likes  user profile clicks  url clicks  hashtag clicks  \\\n",
       "0       0.0      0.0    3.0                  1.0         0.0             0.0   \n",
       "1       2.0      0.0    1.0                  0.0         0.0             0.0   \n",
       "2       0.0      0.0    1.0                  0.0         0.0             0.0   \n",
       "3       0.0      0.0    0.0                  0.0         0.0             0.0   \n",
       "4       0.0      0.0    1.0                  0.0         0.0             0.0   \n",
       "\n",
       "   detail expands  permalink clicks  follows  media views  media engagements  \n",
       "0             1.0               0.0        0           45                  6  \n",
       "1             3.0               0.0        0            0                  0  \n",
       "2             0.0               0.0        0            0                  0  \n",
       "3             0.0               0.0        0            7                  7  \n",
       "4             0.0               0.0        0           11                 11  "
      ]
     },
     "execution_count": 2,
     "metadata": {},
     "output_type": "execute_result"
    }
   ],
   "source": [
    "#Read Master CSV\n",
    "goldie_df = pd.read_csv(\"goldie_master_cleaned_0314.csv\")\n",
    "goldie_df.head()"
   ]
  },
  {
   "cell_type": "code",
   "execution_count": 3,
   "metadata": {},
   "outputs": [],
   "source": [
    "#Changing Date/Time to \"YYYY-MM-DD\" format\n",
    "goldie_df['year'] = pd.to_datetime(goldie_df['time']).dt.year.astype(str)\n",
    "goldie_df['month'] = pd.to_datetime(goldie_df['time']).dt.month.astype(str)\n",
    "goldie_df['day'] = pd.to_datetime(goldie_df['time']).dt.day.astype(str)\n",
    "\n",
    "goldie_df['date'] = goldie_df[['year', 'month', 'day']].agg('-'.join, axis=1)\n",
    "goldie_df = goldie_df.drop(columns = [\"year\", \"month\", \"day\"])\n",
    "goldie_df = goldie_df.drop(columns = \"time\")"
   ]
  },
  {
   "cell_type": "code",
   "execution_count": 4,
   "metadata": {},
   "outputs": [
    {
     "data": {
      "text/html": [
       "<div>\n",
       "<style scoped>\n",
       "    .dataframe tbody tr th:only-of-type {\n",
       "        vertical-align: middle;\n",
       "    }\n",
       "\n",
       "    .dataframe tbody tr th {\n",
       "        vertical-align: top;\n",
       "    }\n",
       "\n",
       "    .dataframe thead th {\n",
       "        text-align: right;\n",
       "    }\n",
       "</style>\n",
       "<table border=\"1\" class=\"dataframe\">\n",
       "  <thead>\n",
       "    <tr style=\"text-align: right;\">\n",
       "      <th></th>\n",
       "      <th>Unnamed: 0</th>\n",
       "      <th>Tweet permalink</th>\n",
       "      <th>Tweet text</th>\n",
       "      <th>Type</th>\n",
       "      <th>impressions</th>\n",
       "      <th>engagements</th>\n",
       "      <th>engagement rate</th>\n",
       "      <th>retweets</th>\n",
       "      <th>replies</th>\n",
       "      <th>likes</th>\n",
       "      <th>user profile clicks</th>\n",
       "      <th>url clicks</th>\n",
       "      <th>hashtag clicks</th>\n",
       "      <th>detail expands</th>\n",
       "      <th>permalink clicks</th>\n",
       "      <th>follows</th>\n",
       "      <th>media views</th>\n",
       "      <th>media engagements</th>\n",
       "      <th>date</th>\n",
       "    </tr>\n",
       "  </thead>\n",
       "  <tbody>\n",
       "    <tr>\n",
       "      <td>0</td>\n",
       "      <td>0</td>\n",
       "      <td>https://twitter.com/GoldieChan/status/94776617...</td>\n",
       "      <td>HAPPY NEW YEAR 🎉\\nMay all your dreams come tru...</td>\n",
       "      <td>2.0</td>\n",
       "      <td>532.0</td>\n",
       "      <td>11.0</td>\n",
       "      <td>0.020677</td>\n",
       "      <td>0.0</td>\n",
       "      <td>0.0</td>\n",
       "      <td>3.0</td>\n",
       "      <td>1.0</td>\n",
       "      <td>0.0</td>\n",
       "      <td>0.0</td>\n",
       "      <td>1.0</td>\n",
       "      <td>0.0</td>\n",
       "      <td>0</td>\n",
       "      <td>45</td>\n",
       "      <td>6</td>\n",
       "      <td>2018-1-1</td>\n",
       "    </tr>\n",
       "    <tr>\n",
       "      <td>1</td>\n",
       "      <td>1</td>\n",
       "      <td>https://twitter.com/GoldieChan/status/94825542...</td>\n",
       "      <td>“I've learned that you shouldn't go through li...</td>\n",
       "      <td>3.0</td>\n",
       "      <td>409.0</td>\n",
       "      <td>6.0</td>\n",
       "      <td>0.014670</td>\n",
       "      <td>2.0</td>\n",
       "      <td>0.0</td>\n",
       "      <td>1.0</td>\n",
       "      <td>0.0</td>\n",
       "      <td>0.0</td>\n",
       "      <td>0.0</td>\n",
       "      <td>3.0</td>\n",
       "      <td>0.0</td>\n",
       "      <td>0</td>\n",
       "      <td>0</td>\n",
       "      <td>0</td>\n",
       "      <td>2018-1-2</td>\n",
       "    </tr>\n",
       "    <tr>\n",
       "      <td>2</td>\n",
       "      <td>2</td>\n",
       "      <td>https://twitter.com/GoldieChan/status/94829378...</td>\n",
       "      <td>This 👇 https://t.co/4niBsvseUQ</td>\n",
       "      <td>1.0</td>\n",
       "      <td>366.0</td>\n",
       "      <td>1.0</td>\n",
       "      <td>0.002732</td>\n",
       "      <td>0.0</td>\n",
       "      <td>0.0</td>\n",
       "      <td>1.0</td>\n",
       "      <td>0.0</td>\n",
       "      <td>0.0</td>\n",
       "      <td>0.0</td>\n",
       "      <td>0.0</td>\n",
       "      <td>0.0</td>\n",
       "      <td>0</td>\n",
       "      <td>0</td>\n",
       "      <td>0</td>\n",
       "      <td>2018-1-2</td>\n",
       "    </tr>\n",
       "    <tr>\n",
       "      <td>3</td>\n",
       "      <td>3</td>\n",
       "      <td>https://twitter.com/GoldieChan/status/94835616...</td>\n",
       "      <td>Where should I go next? #travel https://t.co/D...</td>\n",
       "      <td>3.0</td>\n",
       "      <td>465.0</td>\n",
       "      <td>7.0</td>\n",
       "      <td>0.015054</td>\n",
       "      <td>0.0</td>\n",
       "      <td>0.0</td>\n",
       "      <td>0.0</td>\n",
       "      <td>0.0</td>\n",
       "      <td>0.0</td>\n",
       "      <td>0.0</td>\n",
       "      <td>0.0</td>\n",
       "      <td>0.0</td>\n",
       "      <td>0</td>\n",
       "      <td>7</td>\n",
       "      <td>7</td>\n",
       "      <td>2018-1-3</td>\n",
       "    </tr>\n",
       "    <tr>\n",
       "      <td>4</td>\n",
       "      <td>4</td>\n",
       "      <td>https://twitter.com/GoldieChan/status/94840888...</td>\n",
       "      <td>DONE with first day of #work back. Current fee...</td>\n",
       "      <td>2.0</td>\n",
       "      <td>528.0</td>\n",
       "      <td>12.0</td>\n",
       "      <td>0.022727</td>\n",
       "      <td>0.0</td>\n",
       "      <td>0.0</td>\n",
       "      <td>1.0</td>\n",
       "      <td>0.0</td>\n",
       "      <td>0.0</td>\n",
       "      <td>0.0</td>\n",
       "      <td>0.0</td>\n",
       "      <td>0.0</td>\n",
       "      <td>0</td>\n",
       "      <td>11</td>\n",
       "      <td>11</td>\n",
       "      <td>2018-1-3</td>\n",
       "    </tr>\n",
       "  </tbody>\n",
       "</table>\n",
       "</div>"
      ],
      "text/plain": [
       "   Unnamed: 0                                    Tweet permalink  \\\n",
       "0           0  https://twitter.com/GoldieChan/status/94776617...   \n",
       "1           1  https://twitter.com/GoldieChan/status/94825542...   \n",
       "2           2  https://twitter.com/GoldieChan/status/94829378...   \n",
       "3           3  https://twitter.com/GoldieChan/status/94835616...   \n",
       "4           4  https://twitter.com/GoldieChan/status/94840888...   \n",
       "\n",
       "                                          Tweet text  Type  impressions  \\\n",
       "0  HAPPY NEW YEAR 🎉\\nMay all your dreams come tru...   2.0        532.0   \n",
       "1  “I've learned that you shouldn't go through li...   3.0        409.0   \n",
       "2                     This 👇 https://t.co/4niBsvseUQ   1.0        366.0   \n",
       "3  Where should I go next? #travel https://t.co/D...   3.0        465.0   \n",
       "4  DONE with first day of #work back. Current fee...   2.0        528.0   \n",
       "\n",
       "   engagements  engagement rate  retweets  replies  likes  \\\n",
       "0         11.0         0.020677       0.0      0.0    3.0   \n",
       "1          6.0         0.014670       2.0      0.0    1.0   \n",
       "2          1.0         0.002732       0.0      0.0    1.0   \n",
       "3          7.0         0.015054       0.0      0.0    0.0   \n",
       "4         12.0         0.022727       0.0      0.0    1.0   \n",
       "\n",
       "   user profile clicks  url clicks  hashtag clicks  detail expands  \\\n",
       "0                  1.0         0.0             0.0             1.0   \n",
       "1                  0.0         0.0             0.0             3.0   \n",
       "2                  0.0         0.0             0.0             0.0   \n",
       "3                  0.0         0.0             0.0             0.0   \n",
       "4                  0.0         0.0             0.0             0.0   \n",
       "\n",
       "   permalink clicks  follows  media views  media engagements      date  \n",
       "0               0.0        0           45                  6  2018-1-1  \n",
       "1               0.0        0            0                  0  2018-1-2  \n",
       "2               0.0        0            0                  0  2018-1-2  \n",
       "3               0.0        0            7                  7  2018-1-3  \n",
       "4               0.0        0           11                 11  2018-1-3  "
      ]
     },
     "execution_count": 4,
     "metadata": {},
     "output_type": "execute_result"
    }
   ],
   "source": [
    "goldie_df.head()"
   ]
  },
  {
   "cell_type": "code",
   "execution_count": 5,
   "metadata": {},
   "outputs": [
    {
     "data": {
      "text/html": [
       "<div>\n",
       "<style scoped>\n",
       "    .dataframe tbody tr th:only-of-type {\n",
       "        vertical-align: middle;\n",
       "    }\n",
       "\n",
       "    .dataframe tbody tr th {\n",
       "        vertical-align: top;\n",
       "    }\n",
       "\n",
       "    .dataframe thead th {\n",
       "        text-align: right;\n",
       "    }\n",
       "</style>\n",
       "<table border=\"1\" class=\"dataframe\">\n",
       "  <thead>\n",
       "    <tr style=\"text-align: right;\">\n",
       "      <th></th>\n",
       "      <th>Unnamed: 0</th>\n",
       "      <th>Tweet permalink</th>\n",
       "      <th>Tweet text</th>\n",
       "      <th>Type</th>\n",
       "      <th>impressions</th>\n",
       "      <th>engagements</th>\n",
       "      <th>engagement rate</th>\n",
       "      <th>retweets</th>\n",
       "      <th>replies</th>\n",
       "      <th>likes</th>\n",
       "      <th>user profile clicks</th>\n",
       "      <th>url clicks</th>\n",
       "      <th>hashtag clicks</th>\n",
       "      <th>detail expands</th>\n",
       "      <th>permalink clicks</th>\n",
       "      <th>follows</th>\n",
       "      <th>media views</th>\n",
       "      <th>media engagements</th>\n",
       "      <th>date</th>\n",
       "    </tr>\n",
       "  </thead>\n",
       "  <tbody>\n",
       "    <tr>\n",
       "      <td>6258</td>\n",
       "      <td>6258</td>\n",
       "      <td>https://twitter.com/GoldieChan/status/11768922...</td>\n",
       "      <td>So excited that @Forbes shared my article on @...</td>\n",
       "      <td>1.0</td>\n",
       "      <td>608789.0</td>\n",
       "      <td>38345.0</td>\n",
       "      <td>0.062986</td>\n",
       "      <td>71.0</td>\n",
       "      <td>13.0</td>\n",
       "      <td>907.0</td>\n",
       "      <td>2077.0</td>\n",
       "      <td>753.0</td>\n",
       "      <td>0.0</td>\n",
       "      <td>459.0</td>\n",
       "      <td>0.0</td>\n",
       "      <td>1</td>\n",
       "      <td>34064</td>\n",
       "      <td>34064</td>\n",
       "      <td>2019-9-25</td>\n",
       "    </tr>\n",
       "    <tr>\n",
       "      <td>6779</td>\n",
       "      <td>6779</td>\n",
       "      <td>https://twitter.com/GoldieChan/status/11839781...</td>\n",
       "      <td>My next few 💚 talks &amp;amp; livestreams:\\n✨ #Vid...</td>\n",
       "      <td>2.0</td>\n",
       "      <td>283615.0</td>\n",
       "      <td>85.0</td>\n",
       "      <td>0.000300</td>\n",
       "      <td>11.0</td>\n",
       "      <td>1.0</td>\n",
       "      <td>22.0</td>\n",
       "      <td>10.0</td>\n",
       "      <td>0.0</td>\n",
       "      <td>1.0</td>\n",
       "      <td>11.0</td>\n",
       "      <td>0.0</td>\n",
       "      <td>0</td>\n",
       "      <td>491</td>\n",
       "      <td>29</td>\n",
       "      <td>2019-10-15</td>\n",
       "    </tr>\n",
       "    <tr>\n",
       "      <td>4798</td>\n",
       "      <td>4798</td>\n",
       "      <td>https://twitter.com/GoldieChan/status/11527092...</td>\n",
       "      <td>On a magical journey with #Funko Mira of @dark...</td>\n",
       "      <td>2.0</td>\n",
       "      <td>221055.0</td>\n",
       "      <td>6372.0</td>\n",
       "      <td>0.028825</td>\n",
       "      <td>42.0</td>\n",
       "      <td>3.0</td>\n",
       "      <td>339.0</td>\n",
       "      <td>172.0</td>\n",
       "      <td>80.0</td>\n",
       "      <td>18.0</td>\n",
       "      <td>230.0</td>\n",
       "      <td>0.0</td>\n",
       "      <td>0</td>\n",
       "      <td>5488</td>\n",
       "      <td>5488</td>\n",
       "      <td>2019-7-20</td>\n",
       "    </tr>\n",
       "    <tr>\n",
       "      <td>7426</td>\n",
       "      <td>7426</td>\n",
       "      <td>https://twitter.com/GoldieChan/status/11926178...</td>\n",
       "      <td>We’re on the red carpet for @OriginalFunko #Ho...</td>\n",
       "      <td>2.0</td>\n",
       "      <td>218574.0</td>\n",
       "      <td>3854.0</td>\n",
       "      <td>0.017632</td>\n",
       "      <td>16.0</td>\n",
       "      <td>11.0</td>\n",
       "      <td>216.0</td>\n",
       "      <td>387.0</td>\n",
       "      <td>17.0</td>\n",
       "      <td>55.0</td>\n",
       "      <td>268.0</td>\n",
       "      <td>0.0</td>\n",
       "      <td>0</td>\n",
       "      <td>2884</td>\n",
       "      <td>2884</td>\n",
       "      <td>2019-11-8</td>\n",
       "    </tr>\n",
       "    <tr>\n",
       "      <td>4797</td>\n",
       "      <td>4797</td>\n",
       "      <td>https://twitter.com/GoldieChan/status/11526773...</td>\n",
       "      <td>Always an absolute joy to collaborate with one...</td>\n",
       "      <td>2.0</td>\n",
       "      <td>209145.0</td>\n",
       "      <td>5912.0</td>\n",
       "      <td>0.028267</td>\n",
       "      <td>13.0</td>\n",
       "      <td>3.0</td>\n",
       "      <td>205.0</td>\n",
       "      <td>276.0</td>\n",
       "      <td>67.0</td>\n",
       "      <td>25.0</td>\n",
       "      <td>213.0</td>\n",
       "      <td>0.0</td>\n",
       "      <td>0</td>\n",
       "      <td>5110</td>\n",
       "      <td>5110</td>\n",
       "      <td>2019-7-20</td>\n",
       "    </tr>\n",
       "  </tbody>\n",
       "</table>\n",
       "</div>"
      ],
      "text/plain": [
       "      Unnamed: 0                                    Tweet permalink  \\\n",
       "6258        6258  https://twitter.com/GoldieChan/status/11768922...   \n",
       "6779        6779  https://twitter.com/GoldieChan/status/11839781...   \n",
       "4798        4798  https://twitter.com/GoldieChan/status/11527092...   \n",
       "7426        7426  https://twitter.com/GoldieChan/status/11926178...   \n",
       "4797        4797  https://twitter.com/GoldieChan/status/11526773...   \n",
       "\n",
       "                                             Tweet text  Type  impressions  \\\n",
       "6258  So excited that @Forbes shared my article on @...   1.0     608789.0   \n",
       "6779  My next few 💚 talks &amp; livestreams:\\n✨ #Vid...   2.0     283615.0   \n",
       "4798  On a magical journey with #Funko Mira of @dark...   2.0     221055.0   \n",
       "7426  We’re on the red carpet for @OriginalFunko #Ho...   2.0     218574.0   \n",
       "4797  Always an absolute joy to collaborate with one...   2.0     209145.0   \n",
       "\n",
       "      engagements  engagement rate  retweets  replies  likes  \\\n",
       "6258      38345.0         0.062986      71.0     13.0  907.0   \n",
       "6779         85.0         0.000300      11.0      1.0   22.0   \n",
       "4798       6372.0         0.028825      42.0      3.0  339.0   \n",
       "7426       3854.0         0.017632      16.0     11.0  216.0   \n",
       "4797       5912.0         0.028267      13.0      3.0  205.0   \n",
       "\n",
       "      user profile clicks  url clicks  hashtag clicks  detail expands  \\\n",
       "6258               2077.0       753.0             0.0           459.0   \n",
       "6779                 10.0         0.0             1.0            11.0   \n",
       "4798                172.0        80.0            18.0           230.0   \n",
       "7426                387.0        17.0            55.0           268.0   \n",
       "4797                276.0        67.0            25.0           213.0   \n",
       "\n",
       "      permalink clicks  follows  media views  media engagements        date  \n",
       "6258               0.0        1        34064              34064   2019-9-25  \n",
       "6779               0.0        0          491                 29  2019-10-15  \n",
       "4798               0.0        0         5488               5488   2019-7-20  \n",
       "7426               0.0        0         2884               2884   2019-11-8  \n",
       "4797               0.0        0         5110               5110   2019-7-20  "
      ]
     },
     "execution_count": 5,
     "metadata": {},
     "output_type": "execute_result"
    }
   ],
   "source": [
    "#Identify and Drop the Biggest Outlier\n",
    "sample = goldie_df.sort_values(by=[\"impressions\"], ascending=False)\n",
    "sample.head()"
   ]
  },
  {
   "cell_type": "code",
   "execution_count": 6,
   "metadata": {},
   "outputs": [],
   "source": [
    "goldie_df = goldie_df.drop([6258])"
   ]
  },
  {
   "cell_type": "code",
   "execution_count": 7,
   "metadata": {},
   "outputs": [
    {
     "data": {
      "text/html": [
       "<div>\n",
       "<style scoped>\n",
       "    .dataframe tbody tr th:only-of-type {\n",
       "        vertical-align: middle;\n",
       "    }\n",
       "\n",
       "    .dataframe tbody tr th {\n",
       "        vertical-align: top;\n",
       "    }\n",
       "\n",
       "    .dataframe thead th {\n",
       "        text-align: right;\n",
       "    }\n",
       "</style>\n",
       "<table border=\"1\" class=\"dataframe\">\n",
       "  <thead>\n",
       "    <tr style=\"text-align: right;\">\n",
       "      <th></th>\n",
       "      <th>Unnamed: 0</th>\n",
       "      <th>Tweet permalink</th>\n",
       "      <th>Tweet text</th>\n",
       "      <th>Type</th>\n",
       "      <th>impressions</th>\n",
       "      <th>engagements</th>\n",
       "      <th>engagement rate</th>\n",
       "      <th>retweets</th>\n",
       "      <th>replies</th>\n",
       "      <th>likes</th>\n",
       "      <th>user profile clicks</th>\n",
       "      <th>url clicks</th>\n",
       "      <th>hashtag clicks</th>\n",
       "      <th>detail expands</th>\n",
       "      <th>permalink clicks</th>\n",
       "      <th>follows</th>\n",
       "      <th>media views</th>\n",
       "      <th>media engagements</th>\n",
       "      <th>date</th>\n",
       "    </tr>\n",
       "  </thead>\n",
       "  <tbody>\n",
       "    <tr>\n",
       "      <td>2</td>\n",
       "      <td>2</td>\n",
       "      <td>https://twitter.com/GoldieChan/status/94829378...</td>\n",
       "      <td>This 👇 https://t.co/4niBsvseUQ</td>\n",
       "      <td>1.0</td>\n",
       "      <td>366.0</td>\n",
       "      <td>1.0</td>\n",
       "      <td>0.002732</td>\n",
       "      <td>0.0</td>\n",
       "      <td>0.0</td>\n",
       "      <td>1.0</td>\n",
       "      <td>0.0</td>\n",
       "      <td>0.0</td>\n",
       "      <td>0.0</td>\n",
       "      <td>0.0</td>\n",
       "      <td>0.0</td>\n",
       "      <td>0</td>\n",
       "      <td>0</td>\n",
       "      <td>0</td>\n",
       "      <td>2018-1-2</td>\n",
       "    </tr>\n",
       "    <tr>\n",
       "      <td>10</td>\n",
       "      <td>10</td>\n",
       "      <td>https://twitter.com/GoldieChan/status/95000583...</td>\n",
       "      <td>Let's celebrate the Lunar #YearoftheDog with a...</td>\n",
       "      <td>1.0</td>\n",
       "      <td>368.0</td>\n",
       "      <td>4.0</td>\n",
       "      <td>0.010870</td>\n",
       "      <td>0.0</td>\n",
       "      <td>1.0</td>\n",
       "      <td>1.0</td>\n",
       "      <td>0.0</td>\n",
       "      <td>0.0</td>\n",
       "      <td>0.0</td>\n",
       "      <td>2.0</td>\n",
       "      <td>0.0</td>\n",
       "      <td>0</td>\n",
       "      <td>0</td>\n",
       "      <td>0</td>\n",
       "      <td>2018-1-7</td>\n",
       "    </tr>\n",
       "    <tr>\n",
       "      <td>11</td>\n",
       "      <td>11</td>\n",
       "      <td>https://twitter.com/GoldieChan/status/95017896...</td>\n",
       "      <td>At @CES!! The green-haired Oprah of @LinkedIn ...</td>\n",
       "      <td>1.0</td>\n",
       "      <td>954.0</td>\n",
       "      <td>43.0</td>\n",
       "      <td>0.045073</td>\n",
       "      <td>2.0</td>\n",
       "      <td>0.0</td>\n",
       "      <td>10.0</td>\n",
       "      <td>5.0</td>\n",
       "      <td>1.0</td>\n",
       "      <td>0.0</td>\n",
       "      <td>3.0</td>\n",
       "      <td>0.0</td>\n",
       "      <td>0</td>\n",
       "      <td>115</td>\n",
       "      <td>22</td>\n",
       "      <td>2018-1-8</td>\n",
       "    </tr>\n",
       "    <tr>\n",
       "      <td>21</td>\n",
       "      <td>21</td>\n",
       "      <td>https://twitter.com/GoldieChan/status/95223729...</td>\n",
       "      <td>Let's visit the totally pinnable @Pinterest in...</td>\n",
       "      <td>1.0</td>\n",
       "      <td>352.0</td>\n",
       "      <td>3.0</td>\n",
       "      <td>0.008523</td>\n",
       "      <td>0.0</td>\n",
       "      <td>0.0</td>\n",
       "      <td>3.0</td>\n",
       "      <td>0.0</td>\n",
       "      <td>0.0</td>\n",
       "      <td>0.0</td>\n",
       "      <td>0.0</td>\n",
       "      <td>0.0</td>\n",
       "      <td>0</td>\n",
       "      <td>0</td>\n",
       "      <td>0</td>\n",
       "      <td>2018-1-13</td>\n",
       "    </tr>\n",
       "    <tr>\n",
       "      <td>22</td>\n",
       "      <td>22</td>\n",
       "      <td>https://twitter.com/GoldieChan/status/95228875...</td>\n",
       "      <td>Some of the green murals in #ClarionAlley in S...</td>\n",
       "      <td>1.0</td>\n",
       "      <td>1203.0</td>\n",
       "      <td>12.0</td>\n",
       "      <td>0.009975</td>\n",
       "      <td>0.0</td>\n",
       "      <td>0.0</td>\n",
       "      <td>2.0</td>\n",
       "      <td>0.0</td>\n",
       "      <td>0.0</td>\n",
       "      <td>0.0</td>\n",
       "      <td>0.0</td>\n",
       "      <td>0.0</td>\n",
       "      <td>0</td>\n",
       "      <td>110</td>\n",
       "      <td>10</td>\n",
       "      <td>2018-1-13</td>\n",
       "    </tr>\n",
       "  </tbody>\n",
       "</table>\n",
       "</div>"
      ],
      "text/plain": [
       "    Unnamed: 0                                    Tweet permalink  \\\n",
       "2            2  https://twitter.com/GoldieChan/status/94829378...   \n",
       "10          10  https://twitter.com/GoldieChan/status/95000583...   \n",
       "11          11  https://twitter.com/GoldieChan/status/95017896...   \n",
       "21          21  https://twitter.com/GoldieChan/status/95223729...   \n",
       "22          22  https://twitter.com/GoldieChan/status/95228875...   \n",
       "\n",
       "                                           Tweet text  Type  impressions  \\\n",
       "2                      This 👇 https://t.co/4niBsvseUQ   1.0        366.0   \n",
       "10  Let's celebrate the Lunar #YearoftheDog with a...   1.0        368.0   \n",
       "11  At @CES!! The green-haired Oprah of @LinkedIn ...   1.0        954.0   \n",
       "21  Let's visit the totally pinnable @Pinterest in...   1.0        352.0   \n",
       "22  Some of the green murals in #ClarionAlley in S...   1.0       1203.0   \n",
       "\n",
       "    engagements  engagement rate  retweets  replies  likes  \\\n",
       "2           1.0         0.002732       0.0      0.0    1.0   \n",
       "10          4.0         0.010870       0.0      1.0    1.0   \n",
       "11         43.0         0.045073       2.0      0.0   10.0   \n",
       "21          3.0         0.008523       0.0      0.0    3.0   \n",
       "22         12.0         0.009975       0.0      0.0    2.0   \n",
       "\n",
       "    user profile clicks  url clicks  hashtag clicks  detail expands  \\\n",
       "2                   0.0         0.0             0.0             0.0   \n",
       "10                  0.0         0.0             0.0             2.0   \n",
       "11                  5.0         1.0             0.0             3.0   \n",
       "21                  0.0         0.0             0.0             0.0   \n",
       "22                  0.0         0.0             0.0             0.0   \n",
       "\n",
       "    permalink clicks  follows  media views  media engagements       date  \n",
       "2                0.0        0            0                  0   2018-1-2  \n",
       "10               0.0        0            0                  0   2018-1-7  \n",
       "11               0.0        0          115                 22   2018-1-8  \n",
       "21               0.0        0            0                  0  2018-1-13  \n",
       "22               0.0        0          110                 10  2018-1-13  "
      ]
     },
     "execution_count": 7,
     "metadata": {},
     "output_type": "execute_result"
    }
   ],
   "source": [
    "#Promotion Posts\n",
    "promos = goldie_df.copy()\n",
    "promos_df = promos[promos[\"Type\"] == 1]\n",
    "promos_df.head()"
   ]
  },
  {
   "cell_type": "markdown",
   "metadata": {},
   "source": [
    "## Calibrate Model for Impressions of Promotional Posts"
   ]
  },
  {
   "cell_type": "code",
   "execution_count": 8,
   "metadata": {},
   "outputs": [
    {
     "data": {
      "text/html": [
       "<div>\n",
       "<style scoped>\n",
       "    .dataframe tbody tr th:only-of-type {\n",
       "        vertical-align: middle;\n",
       "    }\n",
       "\n",
       "    .dataframe tbody tr th {\n",
       "        vertical-align: top;\n",
       "    }\n",
       "\n",
       "    .dataframe thead th {\n",
       "        text-align: right;\n",
       "    }\n",
       "</style>\n",
       "<table border=\"1\" class=\"dataframe\">\n",
       "  <thead>\n",
       "    <tr style=\"text-align: right;\">\n",
       "      <th></th>\n",
       "      <th>ds</th>\n",
       "      <th>y</th>\n",
       "    </tr>\n",
       "  </thead>\n",
       "  <tbody>\n",
       "    <tr>\n",
       "      <td>2</td>\n",
       "      <td>2018-1-2</td>\n",
       "      <td>366.0</td>\n",
       "    </tr>\n",
       "    <tr>\n",
       "      <td>10</td>\n",
       "      <td>2018-1-7</td>\n",
       "      <td>368.0</td>\n",
       "    </tr>\n",
       "    <tr>\n",
       "      <td>11</td>\n",
       "      <td>2018-1-8</td>\n",
       "      <td>954.0</td>\n",
       "    </tr>\n",
       "    <tr>\n",
       "      <td>21</td>\n",
       "      <td>2018-1-13</td>\n",
       "      <td>352.0</td>\n",
       "    </tr>\n",
       "    <tr>\n",
       "      <td>22</td>\n",
       "      <td>2018-1-13</td>\n",
       "      <td>1203.0</td>\n",
       "    </tr>\n",
       "  </tbody>\n",
       "</table>\n",
       "</div>"
      ],
      "text/plain": [
       "           ds       y\n",
       "2    2018-1-2   366.0\n",
       "10   2018-1-7   368.0\n",
       "11   2018-1-8   954.0\n",
       "21  2018-1-13   352.0\n",
       "22  2018-1-13  1203.0"
      ]
     },
     "execution_count": 8,
     "metadata": {},
     "output_type": "execute_result"
    }
   ],
   "source": [
    "#Promotions Impressions cleaned\n",
    "promo_impr_df = promos_df[[\"date\", \"impressions\"]]\n",
    "promo_impr_df = promo_impr_df.rename(columns = {\"date\": \"ds\", \"impressions\": \"y\"})\n",
    "promo_impr_df.head()"
   ]
  },
  {
   "cell_type": "code",
   "execution_count": 9,
   "metadata": {},
   "outputs": [
    {
     "data": {
      "text/html": [
       "<div>\n",
       "<style scoped>\n",
       "    .dataframe tbody tr th:only-of-type {\n",
       "        vertical-align: middle;\n",
       "    }\n",
       "\n",
       "    .dataframe tbody tr th {\n",
       "        vertical-align: top;\n",
       "    }\n",
       "\n",
       "    .dataframe thead th {\n",
       "        text-align: right;\n",
       "    }\n",
       "</style>\n",
       "<table border=\"1\" class=\"dataframe\">\n",
       "  <thead>\n",
       "    <tr style=\"text-align: right;\">\n",
       "      <th></th>\n",
       "      <th>ds</th>\n",
       "      <th>y</th>\n",
       "    </tr>\n",
       "  </thead>\n",
       "  <tbody>\n",
       "    <tr>\n",
       "      <td>6275</td>\n",
       "      <td>2019-9-26</td>\n",
       "      <td>142863.0</td>\n",
       "    </tr>\n",
       "    <tr>\n",
       "      <td>8087</td>\n",
       "      <td>2019-12-1</td>\n",
       "      <td>134646.0</td>\n",
       "    </tr>\n",
       "    <tr>\n",
       "      <td>5378</td>\n",
       "      <td>2019-8-19</td>\n",
       "      <td>61001.0</td>\n",
       "    </tr>\n",
       "    <tr>\n",
       "      <td>7970</td>\n",
       "      <td>2019-11-25</td>\n",
       "      <td>50004.0</td>\n",
       "    </tr>\n",
       "    <tr>\n",
       "      <td>6066</td>\n",
       "      <td>2019-9-17</td>\n",
       "      <td>45886.0</td>\n",
       "    </tr>\n",
       "  </tbody>\n",
       "</table>\n",
       "</div>"
      ],
      "text/plain": [
       "              ds         y\n",
       "6275   2019-9-26  142863.0\n",
       "8087   2019-12-1  134646.0\n",
       "5378   2019-8-19   61001.0\n",
       "7970  2019-11-25   50004.0\n",
       "6066   2019-9-17   45886.0"
      ]
     },
     "execution_count": 9,
     "metadata": {},
     "output_type": "execute_result"
    }
   ],
   "source": [
    "#Check for Outstanding Outliers\n",
    "promo_impr_df.sort_values(by=['y'], ascending=False).head()"
   ]
  },
  {
   "cell_type": "code",
   "execution_count": 20,
   "metadata": {},
   "outputs": [],
   "source": [
    "#Drop Outstanding Outliers to fix skew\n",
    "# promo_impr_df = promo_impr_df.drop([7426])\n",
    "promo_impr_df = promo_impr_df[promo_impr_df['y'].between(0,20000)]"
   ]
  },
  {
   "cell_type": "code",
   "execution_count": 21,
   "metadata": {},
   "outputs": [
    {
     "data": {
      "text/html": [
       "<div>\n",
       "<style scoped>\n",
       "    .dataframe tbody tr th:only-of-type {\n",
       "        vertical-align: middle;\n",
       "    }\n",
       "\n",
       "    .dataframe tbody tr th {\n",
       "        vertical-align: top;\n",
       "    }\n",
       "\n",
       "    .dataframe thead th {\n",
       "        text-align: right;\n",
       "    }\n",
       "</style>\n",
       "<table border=\"1\" class=\"dataframe\">\n",
       "  <thead>\n",
       "    <tr style=\"text-align: right;\">\n",
       "      <th></th>\n",
       "      <th>ds</th>\n",
       "      <th>y</th>\n",
       "    </tr>\n",
       "  </thead>\n",
       "  <tbody>\n",
       "    <tr>\n",
       "      <td>7697</td>\n",
       "      <td>2019-11-13</td>\n",
       "      <td>19875.0</td>\n",
       "    </tr>\n",
       "    <tr>\n",
       "      <td>5425</td>\n",
       "      <td>2019-8-20</td>\n",
       "      <td>19237.0</td>\n",
       "    </tr>\n",
       "    <tr>\n",
       "      <td>4244</td>\n",
       "      <td>2019-6-21</td>\n",
       "      <td>17500.0</td>\n",
       "    </tr>\n",
       "    <tr>\n",
       "      <td>7221</td>\n",
       "      <td>2019-11-1</td>\n",
       "      <td>16729.0</td>\n",
       "    </tr>\n",
       "    <tr>\n",
       "      <td>4808</td>\n",
       "      <td>2019-7-21</td>\n",
       "      <td>16191.0</td>\n",
       "    </tr>\n",
       "  </tbody>\n",
       "</table>\n",
       "</div>"
      ],
      "text/plain": [
       "              ds        y\n",
       "7697  2019-11-13  19875.0\n",
       "5425   2019-8-20  19237.0\n",
       "4244   2019-6-21  17500.0\n",
       "7221   2019-11-1  16729.0\n",
       "4808   2019-7-21  16191.0"
      ]
     },
     "execution_count": 21,
     "metadata": {},
     "output_type": "execute_result"
    }
   ],
   "source": [
    "#Check new df\n",
    "promo_impr_df.sort_values(by=['y'], ascending=False).head()"
   ]
  },
  {
   "cell_type": "markdown",
   "metadata": {},
   "source": [
    "### Create a range of viable changepoint values for Impressions"
   ]
  },
  {
   "cell_type": "code",
   "execution_count": 170,
   "metadata": {},
   "outputs": [
    {
     "data": {
      "text/plain": [
       "array([0.08, 0.18, 0.28, 0.38, 0.48, 0.58, 0.68, 0.78, 0.88, 0.98, 1.08,\n",
       "       1.18, 1.28, 1.38, 1.48, 1.58, 1.68, 1.78, 1.88, 1.98, 2.08])"
      ]
     },
     "execution_count": 170,
     "metadata": {},
     "output_type": "execute_result"
    }
   ],
   "source": [
    "x_impr = np.arange(0.08, 2.1, 0.1)\n",
    "x_impr"
   ]
  },
  {
   "cell_type": "markdown",
   "metadata": {},
   "source": [
    "### Loop through range of changepoint values\n",
    "We test the model by tuning the changepoint parameter to each value in the range above.\n",
    "\n",
    "Produce a prediction dataframe, then isolate y-actual and y-theoretical values, and calculate margin error per entry. Take the mean of all the margin errors and append to list; this list will be the y values for the plot below."
   ]
  },
  {
   "cell_type": "code",
   "execution_count": 201,
   "metadata": {},
   "outputs": [
    {
     "name": "stderr",
     "output_type": "stream",
     "text": [
      "INFO:fbprophet:Disabling daily seasonality. Run prophet with daily_seasonality=True to override this.\n",
      "INFO:fbprophet:Making 1 forecasts with cutoffs between 2019-02-27 00:00:00 and 2019-02-27 00:00:00\n",
      "INFO:fbprophet:Disabling daily seasonality. Run prophet with daily_seasonality=True to override this.\n",
      "INFO:fbprophet:Making 1 forecasts with cutoffs between 2019-02-27 00:00:00 and 2019-02-27 00:00:00\n",
      "INFO:fbprophet:Disabling daily seasonality. Run prophet with daily_seasonality=True to override this.\n",
      "INFO:fbprophet:Making 1 forecasts with cutoffs between 2019-02-27 00:00:00 and 2019-02-27 00:00:00\n",
      "INFO:fbprophet:Disabling daily seasonality. Run prophet with daily_seasonality=True to override this.\n",
      "INFO:fbprophet:Making 1 forecasts with cutoffs between 2019-02-27 00:00:00 and 2019-02-27 00:00:00\n",
      "INFO:fbprophet:Disabling daily seasonality. Run prophet with daily_seasonality=True to override this.\n",
      "INFO:fbprophet:Making 1 forecasts with cutoffs between 2019-02-27 00:00:00 and 2019-02-27 00:00:00\n",
      "INFO:fbprophet:Disabling daily seasonality. Run prophet with daily_seasonality=True to override this.\n",
      "INFO:fbprophet:Making 1 forecasts with cutoffs between 2019-02-27 00:00:00 and 2019-02-27 00:00:00\n",
      "INFO:fbprophet:Disabling daily seasonality. Run prophet with daily_seasonality=True to override this.\n",
      "INFO:fbprophet:Making 1 forecasts with cutoffs between 2019-02-27 00:00:00 and 2019-02-27 00:00:00\n",
      "INFO:fbprophet:Disabling daily seasonality. Run prophet with daily_seasonality=True to override this.\n",
      "INFO:fbprophet:Making 1 forecasts with cutoffs between 2019-02-27 00:00:00 and 2019-02-27 00:00:00\n",
      "INFO:fbprophet:Disabling daily seasonality. Run prophet with daily_seasonality=True to override this.\n",
      "INFO:fbprophet:Making 1 forecasts with cutoffs between 2019-02-27 00:00:00 and 2019-02-27 00:00:00\n",
      "INFO:fbprophet:Disabling daily seasonality. Run prophet with daily_seasonality=True to override this.\n",
      "INFO:fbprophet:Making 1 forecasts with cutoffs between 2019-02-27 00:00:00 and 2019-02-27 00:00:00\n",
      "INFO:fbprophet:Disabling daily seasonality. Run prophet with daily_seasonality=True to override this.\n",
      "INFO:fbprophet:Making 1 forecasts with cutoffs between 2019-02-27 00:00:00 and 2019-02-27 00:00:00\n",
      "INFO:fbprophet:Disabling daily seasonality. Run prophet with daily_seasonality=True to override this.\n",
      "INFO:fbprophet:Making 1 forecasts with cutoffs between 2019-02-27 00:00:00 and 2019-02-27 00:00:00\n",
      "INFO:fbprophet:Disabling daily seasonality. Run prophet with daily_seasonality=True to override this.\n",
      "INFO:fbprophet:Making 1 forecasts with cutoffs between 2019-02-27 00:00:00 and 2019-02-27 00:00:00\n",
      "INFO:fbprophet:Disabling daily seasonality. Run prophet with daily_seasonality=True to override this.\n",
      "INFO:fbprophet:Making 1 forecasts with cutoffs between 2019-02-27 00:00:00 and 2019-02-27 00:00:00\n",
      "INFO:fbprophet:Disabling daily seasonality. Run prophet with daily_seasonality=True to override this.\n",
      "INFO:fbprophet:Making 1 forecasts with cutoffs between 2019-02-27 00:00:00 and 2019-02-27 00:00:00\n",
      "INFO:fbprophet:Disabling daily seasonality. Run prophet with daily_seasonality=True to override this.\n",
      "INFO:fbprophet:Making 1 forecasts with cutoffs between 2019-02-27 00:00:00 and 2019-02-27 00:00:00\n",
      "INFO:fbprophet:Disabling daily seasonality. Run prophet with daily_seasonality=True to override this.\n",
      "INFO:fbprophet:Making 1 forecasts with cutoffs between 2019-02-27 00:00:00 and 2019-02-27 00:00:00\n",
      "INFO:fbprophet:Disabling daily seasonality. Run prophet with daily_seasonality=True to override this.\n",
      "INFO:fbprophet:Making 1 forecasts with cutoffs between 2019-02-27 00:00:00 and 2019-02-27 00:00:00\n",
      "INFO:fbprophet:Disabling daily seasonality. Run prophet with daily_seasonality=True to override this.\n",
      "INFO:fbprophet:Making 1 forecasts with cutoffs between 2019-02-27 00:00:00 and 2019-02-27 00:00:00\n",
      "INFO:fbprophet:Disabling daily seasonality. Run prophet with daily_seasonality=True to override this.\n",
      "INFO:fbprophet:Making 1 forecasts with cutoffs between 2019-02-27 00:00:00 and 2019-02-27 00:00:00\n",
      "INFO:fbprophet:Disabling daily seasonality. Run prophet with daily_seasonality=True to override this.\n",
      "INFO:fbprophet:Making 1 forecasts with cutoffs between 2019-02-27 00:00:00 and 2019-02-27 00:00:00\n"
     ]
    }
   ],
   "source": [
    "y = []\n",
    "avg = []\n",
    "for val in x_impr:\n",
    "    m_promo_impr = Prophet(yearly_seasonality=True, changepoint_prior_scale=val)\n",
    "    m_promo_impr.fit(promo_impr_df)\n",
    "    future_promo_impr = m_promo_impr.make_future_dataframe(periods=365)\n",
    "    forecast_promo_impr = m_promo_impr.predict(future_promo_impr)\n",
    "    df_cv = cross_validation(m_promo_impr, initial='366 days', period='180 days', horizon = '365 days')\n",
    "    y_zipped = zip(df_cv[\"y\"], df_cv[\"yhat\"])\n",
    "    for a,b in y_zipped:\n",
    "        x = (a-b)/b\n",
    "        y.append(abs(x))\n",
    "\n",
    "    avg.append(mean(y))"
   ]
  },
  {
   "cell_type": "markdown",
   "metadata": {},
   "source": [
    "#### Plot Changepoint parameter values vs Average Error Margin"
   ]
  },
  {
   "cell_type": "code",
   "execution_count": 203,
   "metadata": {},
   "outputs": [
    {
     "data": {
      "text/plain": [
       "Text(0, 0.5, 'Error Margin')"
      ]
     },
     "execution_count": 203,
     "metadata": {},
     "output_type": "execute_result"
    },
    {
     "data": {
      "image/png": "[encoded data removed]",
      "text/plain": [
       "<Figure size 432x288 with 1 Axes>"
      ]
     },
     "metadata": {
      "needs_background": "light"
     },
     "output_type": "display_data"
    }
   ],
   "source": [
    "plt.plot(x_impr,avg)\n",
    "plt.title(\"Changepoint_prior values for Impression Posts\")\n",
    "plt.xlabel(\"changepoint_prior values\")\n",
    "plt.ylabel(\"Error Margin\")"
   ]
  },
  {
   "cell_type": "markdown",
   "metadata": {},
   "source": [
    "For Impressions, optimal changepoint value is 2.08"
   ]
  },
  {
   "cell_type": "markdown",
   "metadata": {},
   "source": [
    "## Calibrate Model for Clicks of Promotional Posts"
   ]
  },
  {
   "cell_type": "code",
   "execution_count": 153,
   "metadata": {},
   "outputs": [
    {
     "data": {
      "text/html": [
       "<div>\n",
       "<style scoped>\n",
       "    .dataframe tbody tr th:only-of-type {\n",
       "        vertical-align: middle;\n",
       "    }\n",
       "\n",
       "    .dataframe tbody tr th {\n",
       "        vertical-align: top;\n",
       "    }\n",
       "\n",
       "    .dataframe thead th {\n",
       "        text-align: right;\n",
       "    }\n",
       "</style>\n",
       "<table border=\"1\" class=\"dataframe\">\n",
       "  <thead>\n",
       "    <tr style=\"text-align: right;\">\n",
       "      <th></th>\n",
       "      <th>date</th>\n",
       "      <th>url clicks</th>\n",
       "    </tr>\n",
       "  </thead>\n",
       "  <tbody>\n",
       "    <tr>\n",
       "      <td>7970</td>\n",
       "      <td>2019-11-25</td>\n",
       "      <td>1464.0</td>\n",
       "    </tr>\n",
       "    <tr>\n",
       "      <td>9544</td>\n",
       "      <td>2020-1-31</td>\n",
       "      <td>1062.0</td>\n",
       "    </tr>\n",
       "    <tr>\n",
       "      <td>5378</td>\n",
       "      <td>2019-8-19</td>\n",
       "      <td>582.0</td>\n",
       "    </tr>\n",
       "    <tr>\n",
       "      <td>6066</td>\n",
       "      <td>2019-9-17</td>\n",
       "      <td>354.0</td>\n",
       "    </tr>\n",
       "    <tr>\n",
       "      <td>5425</td>\n",
       "      <td>2019-8-20</td>\n",
       "      <td>327.0</td>\n",
       "    </tr>\n",
       "    <tr>\n",
       "      <td>...</td>\n",
       "      <td>...</td>\n",
       "      <td>...</td>\n",
       "    </tr>\n",
       "    <tr>\n",
       "      <td>2401</td>\n",
       "      <td>2019-1-29</td>\n",
       "      <td>0.0</td>\n",
       "    </tr>\n",
       "    <tr>\n",
       "      <td>2427</td>\n",
       "      <td>2019-2-2</td>\n",
       "      <td>0.0</td>\n",
       "    </tr>\n",
       "    <tr>\n",
       "      <td>2440</td>\n",
       "      <td>2019-2-5</td>\n",
       "      <td>0.0</td>\n",
       "    </tr>\n",
       "    <tr>\n",
       "      <td>2447</td>\n",
       "      <td>2019-2-5</td>\n",
       "      <td>0.0</td>\n",
       "    </tr>\n",
       "    <tr>\n",
       "      <td>2894</td>\n",
       "      <td>2019-4-3</td>\n",
       "      <td>0.0</td>\n",
       "    </tr>\n",
       "  </tbody>\n",
       "</table>\n",
       "<p>728 rows × 2 columns</p>\n",
       "</div>"
      ],
      "text/plain": [
       "            date  url clicks\n",
       "7970  2019-11-25      1464.0\n",
       "9544   2020-1-31      1062.0\n",
       "5378   2019-8-19       582.0\n",
       "6066   2019-9-17       354.0\n",
       "5425   2019-8-20       327.0\n",
       "...          ...         ...\n",
       "2401   2019-1-29         0.0\n",
       "2427    2019-2-2         0.0\n",
       "2440    2019-2-5         0.0\n",
       "2447    2019-2-5         0.0\n",
       "2894    2019-4-3         0.0\n",
       "\n",
       "[728 rows x 2 columns]"
      ]
     },
     "execution_count": 153,
     "metadata": {},
     "output_type": "execute_result"
    }
   ],
   "source": [
    "#Promotions Clicks DF\n",
    "promo_click_df = promos_df[[\"date\", \"url clicks\"]]\n",
    "promo_click_df.sort_values(by=[\"url clicks\"], ascending=False)"
   ]
  },
  {
   "cell_type": "code",
   "execution_count": 177,
   "metadata": {},
   "outputs": [],
   "source": [
    "#Exclude Outliers\n",
    "promo_click_df = promo_click_df[promo_click_df['y'].between(0,200)]"
   ]
  },
  {
   "cell_type": "code",
   "execution_count": 178,
   "metadata": {},
   "outputs": [
    {
     "data": {
      "text/html": [
       "<div>\n",
       "<style scoped>\n",
       "    .dataframe tbody tr th:only-of-type {\n",
       "        vertical-align: middle;\n",
       "    }\n",
       "\n",
       "    .dataframe tbody tr th {\n",
       "        vertical-align: top;\n",
       "    }\n",
       "\n",
       "    .dataframe thead th {\n",
       "        text-align: right;\n",
       "    }\n",
       "</style>\n",
       "<table border=\"1\" class=\"dataframe\">\n",
       "  <thead>\n",
       "    <tr style=\"text-align: right;\">\n",
       "      <th></th>\n",
       "      <th>ds</th>\n",
       "      <th>y</th>\n",
       "    </tr>\n",
       "  </thead>\n",
       "  <tbody>\n",
       "    <tr>\n",
       "      <td>2</td>\n",
       "      <td>2018-1-2</td>\n",
       "      <td>0.0</td>\n",
       "    </tr>\n",
       "    <tr>\n",
       "      <td>10</td>\n",
       "      <td>2018-1-7</td>\n",
       "      <td>0.0</td>\n",
       "    </tr>\n",
       "    <tr>\n",
       "      <td>11</td>\n",
       "      <td>2018-1-8</td>\n",
       "      <td>1.0</td>\n",
       "    </tr>\n",
       "    <tr>\n",
       "      <td>21</td>\n",
       "      <td>2018-1-13</td>\n",
       "      <td>0.0</td>\n",
       "    </tr>\n",
       "    <tr>\n",
       "      <td>22</td>\n",
       "      <td>2018-1-13</td>\n",
       "      <td>0.0</td>\n",
       "    </tr>\n",
       "  </tbody>\n",
       "</table>\n",
       "</div>"
      ],
      "text/plain": [
       "           ds    y\n",
       "2    2018-1-2  0.0\n",
       "10   2018-1-7  0.0\n",
       "11   2018-1-8  1.0\n",
       "21  2018-1-13  0.0\n",
       "22  2018-1-13  0.0"
      ]
     },
     "execution_count": 178,
     "metadata": {},
     "output_type": "execute_result"
    }
   ],
   "source": [
    "#Promotion Clicks Cleaned\n",
    "promo_click_df = promo_click_df.rename(columns = {\"date\": \"ds\", \"url clicks\": \"y\"})\n",
    "promo_click_df.head()"
   ]
  },
  {
   "cell_type": "markdown",
   "metadata": {},
   "source": [
    "#### Create range of viable changepoint values for Clicks"
   ]
  },
  {
   "cell_type": "code",
   "execution_count": 180,
   "metadata": {},
   "outputs": [
    {
     "data": {
      "text/plain": [
       "array([0.1, 0.2, 0.3, 0.4, 0.5, 0.6, 0.7, 0.8, 0.9, 1. ])"
      ]
     },
     "execution_count": 180,
     "metadata": {},
     "output_type": "execute_result"
    }
   ],
   "source": [
    "x_clicks = np.arange(0.1, 1.01, 0.1)\n",
    "x_clicks"
   ]
  },
  {
   "cell_type": "code",
   "execution_count": 204,
   "metadata": {},
   "outputs": [
    {
     "name": "stderr",
     "output_type": "stream",
     "text": [
      "INFO:fbprophet:Disabling daily seasonality. Run prophet with daily_seasonality=True to override this.\n",
      "INFO:fbprophet:Making 1 forecasts with cutoffs between 2019-02-27 00:00:00 and 2019-02-27 00:00:00\n",
      "INFO:fbprophet:Disabling daily seasonality. Run prophet with daily_seasonality=True to override this.\n",
      "INFO:fbprophet:Making 1 forecasts with cutoffs between 2019-02-27 00:00:00 and 2019-02-27 00:00:00\n",
      "INFO:fbprophet:Disabling daily seasonality. Run prophet with daily_seasonality=True to override this.\n",
      "INFO:fbprophet:Making 1 forecasts with cutoffs between 2019-02-27 00:00:00 and 2019-02-27 00:00:00\n",
      "INFO:fbprophet:Disabling daily seasonality. Run prophet with daily_seasonality=True to override this.\n",
      "INFO:fbprophet:Making 1 forecasts with cutoffs between 2019-02-27 00:00:00 and 2019-02-27 00:00:00\n",
      "INFO:fbprophet:Disabling daily seasonality. Run prophet with daily_seasonality=True to override this.\n",
      "INFO:fbprophet:Making 1 forecasts with cutoffs between 2019-02-27 00:00:00 and 2019-02-27 00:00:00\n",
      "INFO:fbprophet:Disabling daily seasonality. Run prophet with daily_seasonality=True to override this.\n",
      "INFO:fbprophet:Making 1 forecasts with cutoffs between 2019-02-27 00:00:00 and 2019-02-27 00:00:00\n",
      "INFO:fbprophet:Disabling daily seasonality. Run prophet with daily_seasonality=True to override this.\n",
      "INFO:fbprophet:Making 1 forecasts with cutoffs between 2019-02-27 00:00:00 and 2019-02-27 00:00:00\n",
      "INFO:fbprophet:Disabling daily seasonality. Run prophet with daily_seasonality=True to override this.\n",
      "INFO:fbprophet:Making 1 forecasts with cutoffs between 2019-02-27 00:00:00 and 2019-02-27 00:00:00\n",
      "INFO:fbprophet:Disabling daily seasonality. Run prophet with daily_seasonality=True to override this.\n",
      "INFO:fbprophet:Making 1 forecasts with cutoffs between 2019-02-27 00:00:00 and 2019-02-27 00:00:00\n",
      "INFO:fbprophet:Disabling daily seasonality. Run prophet with daily_seasonality=True to override this.\n",
      "INFO:fbprophet:Making 1 forecasts with cutoffs between 2019-02-27 00:00:00 and 2019-02-27 00:00:00\n"
     ]
    }
   ],
   "source": [
    "y_clicks= []\n",
    "avg_clicks = []\n",
    "for val in x_clicks:\n",
    "    m_promo_clicks = Prophet(yearly_seasonality=True, changepoint_prior_scale=val)\n",
    "    m_promo_clicks.fit(promo_click_df)\n",
    "    future_promo_clicks = m_promo_clicks.make_future_dataframe(periods=365)\n",
    "    forecast_promo_clicks = m_promo_clicks.predict(future_promo_clicks)\n",
    "    df_cv_clicks = cross_validation(m_promo_clicks, initial='366 days', period='180 days', horizon = '365 days')\n",
    "    y_zipped_clicks = zip(df_cv_clicks[\"y\"], df_cv_clicks[\"yhat\"])\n",
    "    for a,b in y_zipped_clicks:\n",
    "        marg_error_clicks = (a-b)/b\n",
    "        y_clicks.append(abs(marg_error_clicks))\n",
    "\n",
    "    avg_clicks.append(mean(y_clicks))"
   ]
  },
  {
   "cell_type": "code",
   "execution_count": 205,
   "metadata": {},
   "outputs": [
    {
     "data": {
      "text/plain": [
       "[3.1715368985198804,\n",
       " 3.1638872964264566,\n",
       " 3.1482158881103173,\n",
       " 3.146819383328942,\n",
       " 3.147444846509266,\n",
       " 3.153597272052343,\n",
       " 3.179994164200227,\n",
       " 3.210547365659386,\n",
       " 3.2322416612392924,\n",
       " 3.2937706281939696]"
      ]
     },
     "execution_count": 205,
     "metadata": {},
     "output_type": "execute_result"
    }
   ],
   "source": [
    "avg_clicks"
   ]
  },
  {
   "cell_type": "markdown",
   "metadata": {},
   "source": [
    "#### Plot Changepoint parameter values vs Average Error Margin"
   ]
  },
  {
   "cell_type": "code",
   "execution_count": 206,
   "metadata": {},
   "outputs": [
    {
     "data": {
      "text/plain": [
       "Text(0, 0.5, 'Error Margin')"
      ]
     },
     "execution_count": 206,
     "metadata": {},
     "output_type": "execute_result"
    },
    {
     "data": {
      "image/png": "[encoded data removed]",
      "text/plain": [
       "<Figure size 432x288 with 1 Axes>"
      ]
     },
     "metadata": {
      "needs_background": "light"
     },
     "output_type": "display_data"
    }
   ],
   "source": [
    "plt.plot(x_clicks,avg_clicks)\n",
    "plt.title(\"Changepoint_prior values for Clicks\")\n",
    "plt.xlabel(\"changepoint_prior values\")\n",
    "plt.ylabel(\"Error Margin\")"
   ]
  },
  {
   "cell_type": "markdown",
   "metadata": {},
   "source": [
    "For Clicks, optimal changepoint value is 0.4"
   ]
  },
  {
   "cell_type": "markdown",
   "metadata": {},
   "source": [
    "### Calibrate Model for Retweets of Promotional Posts"
   ]
  },
  {
   "cell_type": "code",
   "execution_count": 207,
   "metadata": {},
   "outputs": [
    {
     "data": {
      "text/html": [
       "<div>\n",
       "<style scoped>\n",
       "    .dataframe tbody tr th:only-of-type {\n",
       "        vertical-align: middle;\n",
       "    }\n",
       "\n",
       "    .dataframe tbody tr th {\n",
       "        vertical-align: top;\n",
       "    }\n",
       "\n",
       "    .dataframe thead th {\n",
       "        text-align: right;\n",
       "    }\n",
       "</style>\n",
       "<table border=\"1\" class=\"dataframe\">\n",
       "  <thead>\n",
       "    <tr style=\"text-align: right;\">\n",
       "      <th></th>\n",
       "      <th>date</th>\n",
       "      <th>retweets</th>\n",
       "    </tr>\n",
       "  </thead>\n",
       "  <tbody>\n",
       "    <tr>\n",
       "      <td>7970</td>\n",
       "      <td>2019-11-25</td>\n",
       "      <td>97.0</td>\n",
       "    </tr>\n",
       "    <tr>\n",
       "      <td>7697</td>\n",
       "      <td>2019-11-13</td>\n",
       "      <td>69.0</td>\n",
       "    </tr>\n",
       "    <tr>\n",
       "      <td>5378</td>\n",
       "      <td>2019-8-19</td>\n",
       "      <td>68.0</td>\n",
       "    </tr>\n",
       "    <tr>\n",
       "      <td>5425</td>\n",
       "      <td>2019-8-20</td>\n",
       "      <td>39.0</td>\n",
       "    </tr>\n",
       "    <tr>\n",
       "      <td>6066</td>\n",
       "      <td>2019-9-17</td>\n",
       "      <td>33.0</td>\n",
       "    </tr>\n",
       "    <tr>\n",
       "      <td>...</td>\n",
       "      <td>...</td>\n",
       "      <td>...</td>\n",
       "    </tr>\n",
       "    <tr>\n",
       "      <td>906</td>\n",
       "      <td>2018-6-25</td>\n",
       "      <td>0.0</td>\n",
       "    </tr>\n",
       "    <tr>\n",
       "      <td>4120</td>\n",
       "      <td>2019-6-18</td>\n",
       "      <td>0.0</td>\n",
       "    </tr>\n",
       "    <tr>\n",
       "      <td>916</td>\n",
       "      <td>2018-6-27</td>\n",
       "      <td>0.0</td>\n",
       "    </tr>\n",
       "    <tr>\n",
       "      <td>4066</td>\n",
       "      <td>2019-6-17</td>\n",
       "      <td>0.0</td>\n",
       "    </tr>\n",
       "    <tr>\n",
       "      <td>2</td>\n",
       "      <td>2018-1-2</td>\n",
       "      <td>0.0</td>\n",
       "    </tr>\n",
       "  </tbody>\n",
       "</table>\n",
       "<p>728 rows × 2 columns</p>\n",
       "</div>"
      ],
      "text/plain": [
       "            date  retweets\n",
       "7970  2019-11-25      97.0\n",
       "7697  2019-11-13      69.0\n",
       "5378   2019-8-19      68.0\n",
       "5425   2019-8-20      39.0\n",
       "6066   2019-9-17      33.0\n",
       "...          ...       ...\n",
       "906    2018-6-25       0.0\n",
       "4120   2019-6-18       0.0\n",
       "916    2018-6-27       0.0\n",
       "4066   2019-6-17       0.0\n",
       "2       2018-1-2       0.0\n",
       "\n",
       "[728 rows x 2 columns]"
      ]
     },
     "execution_count": 207,
     "metadata": {},
     "output_type": "execute_result"
    }
   ],
   "source": [
    "#Create Data Frame for Retweet Data on Promotional Posts\n",
    "promo_retweet_df = promos_df[[\"date\", \"retweets\"]]\n",
    "promo_retweet_df.sort_values(by=[\"retweets\"], ascending=False)"
   ]
  },
  {
   "cell_type": "code",
   "execution_count": 219,
   "metadata": {},
   "outputs": [
    {
     "data": {
      "text/html": [
       "<div>\n",
       "<style scoped>\n",
       "    .dataframe tbody tr th:only-of-type {\n",
       "        vertical-align: middle;\n",
       "    }\n",
       "\n",
       "    .dataframe tbody tr th {\n",
       "        vertical-align: top;\n",
       "    }\n",
       "\n",
       "    .dataframe thead th {\n",
       "        text-align: right;\n",
       "    }\n",
       "</style>\n",
       "<table border=\"1\" class=\"dataframe\">\n",
       "  <thead>\n",
       "    <tr style=\"text-align: right;\">\n",
       "      <th></th>\n",
       "      <th>ds</th>\n",
       "      <th>y</th>\n",
       "    </tr>\n",
       "  </thead>\n",
       "  <tbody>\n",
       "    <tr>\n",
       "      <td>2</td>\n",
       "      <td>2018-1-2</td>\n",
       "      <td>0.0</td>\n",
       "    </tr>\n",
       "    <tr>\n",
       "      <td>10</td>\n",
       "      <td>2018-1-7</td>\n",
       "      <td>0.0</td>\n",
       "    </tr>\n",
       "    <tr>\n",
       "      <td>11</td>\n",
       "      <td>2018-1-8</td>\n",
       "      <td>2.0</td>\n",
       "    </tr>\n",
       "    <tr>\n",
       "      <td>21</td>\n",
       "      <td>2018-1-13</td>\n",
       "      <td>0.0</td>\n",
       "    </tr>\n",
       "    <tr>\n",
       "      <td>22</td>\n",
       "      <td>2018-1-13</td>\n",
       "      <td>0.0</td>\n",
       "    </tr>\n",
       "  </tbody>\n",
       "</table>\n",
       "</div>"
      ],
      "text/plain": [
       "           ds    y\n",
       "2    2018-1-2  0.0\n",
       "10   2018-1-7  0.0\n",
       "11   2018-1-8  2.0\n",
       "21  2018-1-13  0.0\n",
       "22  2018-1-13  0.0"
      ]
     },
     "execution_count": 219,
     "metadata": {},
     "output_type": "execute_result"
    }
   ],
   "source": [
    "#Promotion Retweets DF Cleaned\n",
    "promo_retweet_df = promo_retweet_df.rename(columns = {\"date\": \"ds\", \"retweets\": \"y\"})\n",
    "promo_retweet_df.head()\n"
   ]
  },
  {
   "cell_type": "code",
   "execution_count": 220,
   "metadata": {},
   "outputs": [],
   "source": [
    "#Exclude outliers\n",
    "promo_retweet_df = promo_retweet_df[promo_retweet_df['y'].between(0,20)]\n"
   ]
  },
  {
   "cell_type": "markdown",
   "metadata": {},
   "source": [
    "#### Create range of viable changepoint values for retweets"
   ]
  },
  {
   "cell_type": "code",
   "execution_count": 221,
   "metadata": {},
   "outputs": [
    {
     "data": {
      "text/plain": [
       "array([0.2, 0.3, 0.4, 0.5, 0.6, 0.7, 0.8, 0.9])"
      ]
     },
     "execution_count": 221,
     "metadata": {},
     "output_type": "execute_result"
    }
   ],
   "source": [
    "x_retweets = np.arange(0.2, 1, 0.1)\n",
    "x_retweets"
   ]
  },
  {
   "cell_type": "code",
   "execution_count": 222,
   "metadata": {},
   "outputs": [
    {
     "name": "stderr",
     "output_type": "stream",
     "text": [
      "INFO:fbprophet:Disabling daily seasonality. Run prophet with daily_seasonality=True to override this.\n",
      "INFO:fbprophet:Making 1 forecasts with cutoffs between 2019-02-27 00:00:00 and 2019-02-27 00:00:00\n",
      "INFO:fbprophet:Disabling daily seasonality. Run prophet with daily_seasonality=True to override this.\n",
      "INFO:fbprophet:Making 1 forecasts with cutoffs between 2019-02-27 00:00:00 and 2019-02-27 00:00:00\n",
      "INFO:fbprophet:Disabling daily seasonality. Run prophet with daily_seasonality=True to override this.\n",
      "INFO:fbprophet:Making 1 forecasts with cutoffs between 2019-02-27 00:00:00 and 2019-02-27 00:00:00\n",
      "INFO:fbprophet:Disabling daily seasonality. Run prophet with daily_seasonality=True to override this.\n",
      "INFO:fbprophet:Making 1 forecasts with cutoffs between 2019-02-27 00:00:00 and 2019-02-27 00:00:00\n",
      "INFO:fbprophet:Disabling daily seasonality. Run prophet with daily_seasonality=True to override this.\n",
      "INFO:fbprophet:Making 1 forecasts with cutoffs between 2019-02-27 00:00:00 and 2019-02-27 00:00:00\n",
      "INFO:fbprophet:Disabling daily seasonality. Run prophet with daily_seasonality=True to override this.\n",
      "INFO:fbprophet:Making 1 forecasts with cutoffs between 2019-02-27 00:00:00 and 2019-02-27 00:00:00\n",
      "INFO:fbprophet:Disabling daily seasonality. Run prophet with daily_seasonality=True to override this.\n",
      "INFO:fbprophet:Making 1 forecasts with cutoffs between 2019-02-27 00:00:00 and 2019-02-27 00:00:00\n",
      "INFO:fbprophet:Disabling daily seasonality. Run prophet with daily_seasonality=True to override this.\n",
      "INFO:fbprophet:Making 1 forecasts with cutoffs between 2019-02-27 00:00:00 and 2019-02-27 00:00:00\n"
     ]
    },
    {
     "data": {
      "text/plain": [
       "[1.2924546663551608,\n",
       " 1.2823680400998918,\n",
       " 1.2762044002751203,\n",
       " 1.2727270566605409,\n",
       " 1.2703215590403916,\n",
       " 1.2699259263101452,\n",
       " 1.2686757682870837,\n",
       " 1.2683830272020071]"
      ]
     },
     "execution_count": 222,
     "metadata": {},
     "output_type": "execute_result"
    }
   ],
   "source": [
    "y_retweets= []\n",
    "avg_retweets = []\n",
    "for val in x_retweets:\n",
    "    m_promo_retweets = Prophet(yearly_seasonality=True, changepoint_prior_scale=val)\n",
    "    m_promo_retweets.fit(promo_retweet_df)\n",
    "    future_promo_retweets = m_promo_retweets.make_future_dataframe(periods=365)\n",
    "    forecast_promo_retweets = m_promo_retweets.predict(future_promo_retweets)\n",
    "    df_cv_retweets = cross_validation(m_promo_retweets, initial='366 days', period='180 days', horizon = '365 days')\n",
    "    y_zipped_retweets = zip(df_cv_retweets[\"y\"], df_cv_retweets[\"yhat\"])\n",
    "    for a,b in y_zipped_retweets:\n",
    "        marg_error_retweets = (a-b)/b\n",
    "        y_retweets.append(abs(marg_error_retweets))\n",
    "\n",
    "    avg_retweets.append(mean(y_retweets))\n",
    "    \n",
    "avg_retweets"
   ]
  },
  {
   "cell_type": "markdown",
   "metadata": {},
   "source": [
    "#### Plot Changepoint Parameter vs Average Error Margin"
   ]
  },
  {
   "cell_type": "code",
   "execution_count": 233,
   "metadata": {},
   "outputs": [
    {
     "data": {
      "text/plain": [
       "Text(0, 0.5, 'Average Error Margin')"
      ]
     },
     "execution_count": 233,
     "metadata": {},
     "output_type": "execute_result"
    },
    {
     "data": {
      "image/png": "[encoded data removed]",
      "text/plain": [
       "<Figure size 432x288 with 1 Axes>"
      ]
     },
     "metadata": {
      "needs_background": "light"
     },
     "output_type": "display_data"
    }
   ],
   "source": [
    "plt.plot(x_retweets,avg_retweets)\n",
    "plt.title(\"Changepoint_prior values for Retweets\")\n",
    "plt.xlabel(\"changepoint_prior values\")\n",
    "plt.ylabel(\"Average Error Margin\")"
   ]
  },
  {
   "cell_type": "markdown",
   "metadata": {},
   "source": [
    "For Retweets, optimal changepoint value is 0.9"
   ]
  },
  {
   "cell_type": "markdown",
   "metadata": {},
   "source": [
    "## Calibrate Model for Likes of Promotional Posts"
   ]
  },
  {
   "cell_type": "code",
   "execution_count": 225,
   "metadata": {},
   "outputs": [
    {
     "data": {
      "text/html": [
       "<div>\n",
       "<style scoped>\n",
       "    .dataframe tbody tr th:only-of-type {\n",
       "        vertical-align: middle;\n",
       "    }\n",
       "\n",
       "    .dataframe tbody tr th {\n",
       "        vertical-align: top;\n",
       "    }\n",
       "\n",
       "    .dataframe thead th {\n",
       "        text-align: right;\n",
       "    }\n",
       "</style>\n",
       "<table border=\"1\" class=\"dataframe\">\n",
       "  <thead>\n",
       "    <tr style=\"text-align: right;\">\n",
       "      <th></th>\n",
       "      <th>date</th>\n",
       "      <th>likes</th>\n",
       "    </tr>\n",
       "  </thead>\n",
       "  <tbody>\n",
       "    <tr>\n",
       "      <td>7697</td>\n",
       "      <td>2019-11-13</td>\n",
       "      <td>458.0</td>\n",
       "    </tr>\n",
       "    <tr>\n",
       "      <td>7970</td>\n",
       "      <td>2019-11-25</td>\n",
       "      <td>448.0</td>\n",
       "    </tr>\n",
       "    <tr>\n",
       "      <td>5378</td>\n",
       "      <td>2019-8-19</td>\n",
       "      <td>307.0</td>\n",
       "    </tr>\n",
       "    <tr>\n",
       "      <td>6275</td>\n",
       "      <td>2019-9-26</td>\n",
       "      <td>191.0</td>\n",
       "    </tr>\n",
       "    <tr>\n",
       "      <td>5425</td>\n",
       "      <td>2019-8-20</td>\n",
       "      <td>152.0</td>\n",
       "    </tr>\n",
       "    <tr>\n",
       "      <td>...</td>\n",
       "      <td>...</td>\n",
       "      <td>...</td>\n",
       "    </tr>\n",
       "    <tr>\n",
       "      <td>397</td>\n",
       "      <td>2018-4-17</td>\n",
       "      <td>0.0</td>\n",
       "    </tr>\n",
       "    <tr>\n",
       "      <td>4278</td>\n",
       "      <td>2019-6-24</td>\n",
       "      <td>0.0</td>\n",
       "    </tr>\n",
       "    <tr>\n",
       "      <td>1603</td>\n",
       "      <td>2018-10-6</td>\n",
       "      <td>0.0</td>\n",
       "    </tr>\n",
       "    <tr>\n",
       "      <td>245</td>\n",
       "      <td>2018-3-27</td>\n",
       "      <td>0.0</td>\n",
       "    </tr>\n",
       "    <tr>\n",
       "      <td>497</td>\n",
       "      <td>2018-4-27</td>\n",
       "      <td>0.0</td>\n",
       "    </tr>\n",
       "  </tbody>\n",
       "</table>\n",
       "<p>728 rows × 2 columns</p>\n",
       "</div>"
      ],
      "text/plain": [
       "            date  likes\n",
       "7697  2019-11-13  458.0\n",
       "7970  2019-11-25  448.0\n",
       "5378   2019-8-19  307.0\n",
       "6275   2019-9-26  191.0\n",
       "5425   2019-8-20  152.0\n",
       "...          ...    ...\n",
       "397    2018-4-17    0.0\n",
       "4278   2019-6-24    0.0\n",
       "1603   2018-10-6    0.0\n",
       "245    2018-3-27    0.0\n",
       "497    2018-4-27    0.0\n",
       "\n",
       "[728 rows x 2 columns]"
      ]
     },
     "execution_count": 225,
     "metadata": {},
     "output_type": "execute_result"
    }
   ],
   "source": [
    "#Create Data Frame for Like Data on Promotional Posts\n",
    "promo_like_df = promos_df[[\"date\", \"likes\"]]\n",
    "promo_like_df.sort_values(by=[\"likes\"], ascending=False)"
   ]
  },
  {
   "cell_type": "code",
   "execution_count": 226,
   "metadata": {},
   "outputs": [],
   "source": [
    "#Promotion Likes DF Cleaned"
   ]
  },
  {
   "cell_type": "code",
   "execution_count": 227,
   "metadata": {},
   "outputs": [
    {
     "data": {
      "text/html": [
       "<div>\n",
       "<style scoped>\n",
       "    .dataframe tbody tr th:only-of-type {\n",
       "        vertical-align: middle;\n",
       "    }\n",
       "\n",
       "    .dataframe tbody tr th {\n",
       "        vertical-align: top;\n",
       "    }\n",
       "\n",
       "    .dataframe thead th {\n",
       "        text-align: right;\n",
       "    }\n",
       "</style>\n",
       "<table border=\"1\" class=\"dataframe\">\n",
       "  <thead>\n",
       "    <tr style=\"text-align: right;\">\n",
       "      <th></th>\n",
       "      <th>ds</th>\n",
       "      <th>y</th>\n",
       "    </tr>\n",
       "  </thead>\n",
       "  <tbody>\n",
       "    <tr>\n",
       "      <td>2</td>\n",
       "      <td>2018-1-2</td>\n",
       "      <td>1.0</td>\n",
       "    </tr>\n",
       "    <tr>\n",
       "      <td>10</td>\n",
       "      <td>2018-1-7</td>\n",
       "      <td>1.0</td>\n",
       "    </tr>\n",
       "    <tr>\n",
       "      <td>11</td>\n",
       "      <td>2018-1-8</td>\n",
       "      <td>10.0</td>\n",
       "    </tr>\n",
       "    <tr>\n",
       "      <td>21</td>\n",
       "      <td>2018-1-13</td>\n",
       "      <td>3.0</td>\n",
       "    </tr>\n",
       "    <tr>\n",
       "      <td>22</td>\n",
       "      <td>2018-1-13</td>\n",
       "      <td>2.0</td>\n",
       "    </tr>\n",
       "  </tbody>\n",
       "</table>\n",
       "</div>"
      ],
      "text/plain": [
       "           ds     y\n",
       "2    2018-1-2   1.0\n",
       "10   2018-1-7   1.0\n",
       "11   2018-1-8  10.0\n",
       "21  2018-1-13   3.0\n",
       "22  2018-1-13   2.0"
      ]
     },
     "execution_count": 227,
     "metadata": {},
     "output_type": "execute_result"
    }
   ],
   "source": [
    "promo_like_df = promo_like_df.rename(columns = {\"date\": \"ds\", \"likes\": \"y\"})\n",
    "promo_like_df.head()"
   ]
  },
  {
   "cell_type": "code",
   "execution_count": 228,
   "metadata": {},
   "outputs": [],
   "source": [
    "#Exclude outliers\n",
    "promo_like_df = promo_like_df[promo_like_df['y'].between(0,100)]\n"
   ]
  },
  {
   "cell_type": "markdown",
   "metadata": {},
   "source": [
    "#### Create range of viable changepoint values for Likes"
   ]
  },
  {
   "cell_type": "code",
   "execution_count": 229,
   "metadata": {},
   "outputs": [
    {
     "data": {
      "text/plain": [
       "array([0.7, 0.8, 0.9, 1. , 1.1, 1.2, 1.3, 1.4, 1.5, 1.6, 1.7, 1.8, 1.9,\n",
       "       2. ])"
      ]
     },
     "execution_count": 229,
     "metadata": {},
     "output_type": "execute_result"
    }
   ],
   "source": [
    "x_likes = np.arange(0.7, 2.1, 0.1)\n",
    "x_likes"
   ]
  },
  {
   "cell_type": "code",
   "execution_count": 230,
   "metadata": {},
   "outputs": [
    {
     "name": "stderr",
     "output_type": "stream",
     "text": [
      "INFO:fbprophet:Disabling daily seasonality. Run prophet with daily_seasonality=True to override this.\n",
      "INFO:fbprophet:Making 1 forecasts with cutoffs between 2019-02-27 00:00:00 and 2019-02-27 00:00:00\n",
      "INFO:fbprophet:Disabling daily seasonality. Run prophet with daily_seasonality=True to override this.\n",
      "INFO:fbprophet:Making 1 forecasts with cutoffs between 2019-02-27 00:00:00 and 2019-02-27 00:00:00\n",
      "INFO:fbprophet:Disabling daily seasonality. Run prophet with daily_seasonality=True to override this.\n",
      "INFO:fbprophet:Making 1 forecasts with cutoffs between 2019-02-27 00:00:00 and 2019-02-27 00:00:00\n",
      "INFO:fbprophet:Disabling daily seasonality. Run prophet with daily_seasonality=True to override this.\n",
      "INFO:fbprophet:Making 1 forecasts with cutoffs between 2019-02-27 00:00:00 and 2019-02-27 00:00:00\n",
      "INFO:fbprophet:Disabling daily seasonality. Run prophet with daily_seasonality=True to override this.\n",
      "INFO:fbprophet:Making 1 forecasts with cutoffs between 2019-02-27 00:00:00 and 2019-02-27 00:00:00\n",
      "INFO:fbprophet:Disabling daily seasonality. Run prophet with daily_seasonality=True to override this.\n",
      "INFO:fbprophet:Making 1 forecasts with cutoffs between 2019-02-27 00:00:00 and 2019-02-27 00:00:00\n",
      "INFO:fbprophet:Disabling daily seasonality. Run prophet with daily_seasonality=True to override this.\n",
      "INFO:fbprophet:Making 1 forecasts with cutoffs between 2019-02-27 00:00:00 and 2019-02-27 00:00:00\n",
      "INFO:fbprophet:Disabling daily seasonality. Run prophet with daily_seasonality=True to override this.\n",
      "INFO:fbprophet:Making 1 forecasts with cutoffs between 2019-02-27 00:00:00 and 2019-02-27 00:00:00\n",
      "INFO:fbprophet:Disabling daily seasonality. Run prophet with daily_seasonality=True to override this.\n",
      "INFO:fbprophet:Making 1 forecasts with cutoffs between 2019-02-27 00:00:00 and 2019-02-27 00:00:00\n",
      "INFO:fbprophet:Disabling daily seasonality. Run prophet with daily_seasonality=True to override this.\n",
      "INFO:fbprophet:Making 1 forecasts with cutoffs between 2019-02-27 00:00:00 and 2019-02-27 00:00:00\n",
      "INFO:fbprophet:Disabling daily seasonality. Run prophet with daily_seasonality=True to override this.\n",
      "INFO:fbprophet:Making 1 forecasts with cutoffs between 2019-02-27 00:00:00 and 2019-02-27 00:00:00\n",
      "INFO:fbprophet:Disabling daily seasonality. Run prophet with daily_seasonality=True to override this.\n",
      "INFO:fbprophet:Making 1 forecasts with cutoffs between 2019-02-27 00:00:00 and 2019-02-27 00:00:00\n",
      "INFO:fbprophet:Disabling daily seasonality. Run prophet with daily_seasonality=True to override this.\n",
      "INFO:fbprophet:Making 1 forecasts with cutoffs between 2019-02-27 00:00:00 and 2019-02-27 00:00:00\n",
      "INFO:fbprophet:Disabling daily seasonality. Run prophet with daily_seasonality=True to override this.\n",
      "INFO:fbprophet:Making 1 forecasts with cutoffs between 2019-02-27 00:00:00 and 2019-02-27 00:00:00\n"
     ]
    },
    {
     "data": {
      "text/plain": [
       "[1.2679477632137919,\n",
       " 1.2645541031187766,\n",
       " 1.2651473521657317,\n",
       " 1.265497067955259,\n",
       " 1.2653535507550833,\n",
       " 1.2653228310460667,\n",
       " 1.2655534771478172,\n",
       " 1.2655601511310999,\n",
       " 1.2655854720539315,\n",
       " 1.2654699742361553,\n",
       " 1.2654046921767514,\n",
       " 1.2653088507031238,\n",
       " 1.2650782317751181,\n",
       " 1.2648692703933524]"
      ]
     },
     "execution_count": 230,
     "metadata": {},
     "output_type": "execute_result"
    }
   ],
   "source": [
    "y_likes= []\n",
    "avg_likes = []\n",
    "for val in x_likes:\n",
    "    m_promo_likes = Prophet(yearly_seasonality=True, changepoint_prior_scale=val)\n",
    "    m_promo_likes.fit(promo_retweet_df)\n",
    "    future_promo_likes = m_promo_likes.make_future_dataframe(periods=365)\n",
    "    forecast_promo_likes = m_promo_likes.predict(future_promo_likes)\n",
    "    df_cv_likes = cross_validation(m_promo_likes, initial='366 days', period='180 days', horizon = '365 days')\n",
    "    y_zipped_likes = zip(df_cv_likes[\"y\"], df_cv_likes[\"yhat\"])\n",
    "    for a,b in y_zipped_likes:\n",
    "        marg_error_likes = (a-b)/b\n",
    "        y_likes.append(abs(marg_error_likes))\n",
    "\n",
    "    avg_likes.append(mean(y_likes))\n",
    "    \n",
    "avg_likes"
   ]
  },
  {
   "cell_type": "markdown",
   "metadata": {},
   "source": [
    "#### Plot Changepoint Parameter vs Average Error Margin"
   ]
  },
  {
   "cell_type": "code",
   "execution_count": 236,
   "metadata": {},
   "outputs": [
    {
     "data": {
      "text/plain": [
       "Text(0, 0.5, 'Average Error Margin')"
      ]
     },
     "execution_count": 236,
     "metadata": {},
     "output_type": "execute_result"
    },
    {
     "data": {
      "image/png": "[encoded data removed]",
      "text/plain": [
       "<Figure size 432x288 with 1 Axes>"
      ]
     },
     "metadata": {
      "needs_background": "light"
     },
     "output_type": "display_data"
    }
   ],
   "source": [
    "plt.plot(x_likes,avg_likes)\n",
    "plt.title(\"Changepoint_prior values for Likes\")\n",
    "plt.xlabel(\"changepoint_prior values\")\n",
    "plt.ylabel(\"Average Error Margin\")"
   ]
  },
  {
   "cell_type": "markdown",
   "metadata": {},
   "source": [
    "For Likes, optimal changepoint value is 0.8"
   ]
  },
  {
   "cell_type": "markdown",
   "metadata": {},
   "source": [
    "## Calibrate Model for Replies of Promotional Posts"
   ]
  },
  {
   "cell_type": "code",
   "execution_count": 280,
   "metadata": {},
   "outputs": [
    {
     "data": {
      "text/html": [
       "<div>\n",
       "<style scoped>\n",
       "    .dataframe tbody tr th:only-of-type {\n",
       "        vertical-align: middle;\n",
       "    }\n",
       "\n",
       "    .dataframe tbody tr th {\n",
       "        vertical-align: top;\n",
       "    }\n",
       "\n",
       "    .dataframe thead th {\n",
       "        text-align: right;\n",
       "    }\n",
       "</style>\n",
       "<table border=\"1\" class=\"dataframe\">\n",
       "  <thead>\n",
       "    <tr style=\"text-align: right;\">\n",
       "      <th></th>\n",
       "      <th>date</th>\n",
       "      <th>replies</th>\n",
       "    </tr>\n",
       "  </thead>\n",
       "  <tbody>\n",
       "    <tr>\n",
       "      <td>6333</td>\n",
       "      <td>2019-9-27</td>\n",
       "      <td>21.0</td>\n",
       "    </tr>\n",
       "    <tr>\n",
       "      <td>7426</td>\n",
       "      <td>2019-11-8</td>\n",
       "      <td>11.0</td>\n",
       "    </tr>\n",
       "    <tr>\n",
       "      <td>3236</td>\n",
       "      <td>2019-5-1</td>\n",
       "      <td>8.0</td>\n",
       "    </tr>\n",
       "    <tr>\n",
       "      <td>4994</td>\n",
       "      <td>2019-7-30</td>\n",
       "      <td>7.0</td>\n",
       "    </tr>\n",
       "    <tr>\n",
       "      <td>931</td>\n",
       "      <td>2018-6-28</td>\n",
       "      <td>7.0</td>\n",
       "    </tr>\n",
       "    <tr>\n",
       "      <td>...</td>\n",
       "      <td>...</td>\n",
       "      <td>...</td>\n",
       "    </tr>\n",
       "    <tr>\n",
       "      <td>1426</td>\n",
       "      <td>2018-9-14</td>\n",
       "      <td>0.0</td>\n",
       "    </tr>\n",
       "    <tr>\n",
       "      <td>1409</td>\n",
       "      <td>2018-9-12</td>\n",
       "      <td>0.0</td>\n",
       "    </tr>\n",
       "    <tr>\n",
       "      <td>1348</td>\n",
       "      <td>2018-9-5</td>\n",
       "      <td>0.0</td>\n",
       "    </tr>\n",
       "    <tr>\n",
       "      <td>1291</td>\n",
       "      <td>2018-9-2</td>\n",
       "      <td>0.0</td>\n",
       "    </tr>\n",
       "    <tr>\n",
       "      <td>8133</td>\n",
       "      <td>2019-12-3</td>\n",
       "      <td>0.0</td>\n",
       "    </tr>\n",
       "  </tbody>\n",
       "</table>\n",
       "<p>516 rows × 2 columns</p>\n",
       "</div>"
      ],
      "text/plain": [
       "           date  replies\n",
       "6333  2019-9-27     21.0\n",
       "7426  2019-11-8     11.0\n",
       "3236   2019-5-1      8.0\n",
       "4994  2019-7-30      7.0\n",
       "931   2018-6-28      7.0\n",
       "...         ...      ...\n",
       "1426  2018-9-14      0.0\n",
       "1409  2018-9-12      0.0\n",
       "1348   2018-9-5      0.0\n",
       "1291   2018-9-2      0.0\n",
       "8133  2019-12-3      0.0\n",
       "\n",
       "[516 rows x 2 columns]"
      ]
     },
     "execution_count": 280,
     "metadata": {},
     "output_type": "execute_result"
    }
   ],
   "source": [
    "#Create Data Frame for Like Data on Promotional Posts\n",
    "promo_replies_df = promos_df[[\"date\", \"replies\"]]\n",
    "promo_replies_df.sort_values(by=[\"replies\"], ascending=False)"
   ]
  },
  {
   "cell_type": "code",
   "execution_count": 281,
   "metadata": {},
   "outputs": [
    {
     "data": {
      "text/html": [
       "<div>\n",
       "<style scoped>\n",
       "    .dataframe tbody tr th:only-of-type {\n",
       "        vertical-align: middle;\n",
       "    }\n",
       "\n",
       "    .dataframe tbody tr th {\n",
       "        vertical-align: top;\n",
       "    }\n",
       "\n",
       "    .dataframe thead th {\n",
       "        text-align: right;\n",
       "    }\n",
       "</style>\n",
       "<table border=\"1\" class=\"dataframe\">\n",
       "  <thead>\n",
       "    <tr style=\"text-align: right;\">\n",
       "      <th></th>\n",
       "      <th>ds</th>\n",
       "      <th>y</th>\n",
       "    </tr>\n",
       "  </thead>\n",
       "  <tbody>\n",
       "    <tr>\n",
       "      <td>2</td>\n",
       "      <td>2018-1-2</td>\n",
       "      <td>0.0</td>\n",
       "    </tr>\n",
       "    <tr>\n",
       "      <td>10</td>\n",
       "      <td>2018-1-7</td>\n",
       "      <td>1.0</td>\n",
       "    </tr>\n",
       "    <tr>\n",
       "      <td>11</td>\n",
       "      <td>2018-1-8</td>\n",
       "      <td>0.0</td>\n",
       "    </tr>\n",
       "    <tr>\n",
       "      <td>21</td>\n",
       "      <td>2018-1-13</td>\n",
       "      <td>0.0</td>\n",
       "    </tr>\n",
       "    <tr>\n",
       "      <td>22</td>\n",
       "      <td>2018-1-13</td>\n",
       "      <td>0.0</td>\n",
       "    </tr>\n",
       "  </tbody>\n",
       "</table>\n",
       "</div>"
      ],
      "text/plain": [
       "           ds    y\n",
       "2    2018-1-2  0.0\n",
       "10   2018-1-7  1.0\n",
       "11   2018-1-8  0.0\n",
       "21  2018-1-13  0.0\n",
       "22  2018-1-13  0.0"
      ]
     },
     "execution_count": 281,
     "metadata": {},
     "output_type": "execute_result"
    }
   ],
   "source": [
    "#Promotion Likes DF Cleaned\n",
    "promo_replies_df = promo_replies_df.rename(columns = {\"date\": \"ds\", \"replies\": \"y\"})\n",
    "promo_replies_df.head()"
   ]
  },
  {
   "cell_type": "markdown",
   "metadata": {},
   "source": [
    "#### Create range of viable changepoint values for Replies"
   ]
  },
  {
   "cell_type": "code",
   "execution_count": 235,
   "metadata": {},
   "outputs": [
    {
     "data": {
      "text/plain": [
       "array([0.5, 0.6, 0.7, 0.8, 0.9, 1. , 1.1, 1.2, 1.3, 1.4, 1.5, 1.6, 1.7,\n",
       "       1.8, 1.9, 2. ])"
      ]
     },
     "execution_count": 235,
     "metadata": {},
     "output_type": "execute_result"
    }
   ],
   "source": [
    "x_replies = np.arange(0.5, 2.1, 0.1)\n",
    "x_replies"
   ]
  },
  {
   "cell_type": "code",
   "execution_count": 237,
   "metadata": {},
   "outputs": [
    {
     "name": "stderr",
     "output_type": "stream",
     "text": [
      "INFO:fbprophet:Disabling daily seasonality. Run prophet with daily_seasonality=True to override this.\n",
      "INFO:fbprophet:Making 1 forecasts with cutoffs between 2019-02-27 00:00:00 and 2019-02-27 00:00:00\n",
      "INFO:fbprophet:Disabling daily seasonality. Run prophet with daily_seasonality=True to override this.\n",
      "INFO:fbprophet:Making 1 forecasts with cutoffs between 2019-02-27 00:00:00 and 2019-02-27 00:00:00\n",
      "INFO:fbprophet:Disabling daily seasonality. Run prophet with daily_seasonality=True to override this.\n",
      "INFO:fbprophet:Making 1 forecasts with cutoffs between 2019-02-27 00:00:00 and 2019-02-27 00:00:00\n",
      "INFO:fbprophet:Disabling daily seasonality. Run prophet with daily_seasonality=True to override this.\n",
      "INFO:fbprophet:Making 1 forecasts with cutoffs between 2019-02-27 00:00:00 and 2019-02-27 00:00:00\n",
      "INFO:fbprophet:Disabling daily seasonality. Run prophet with daily_seasonality=True to override this.\n",
      "INFO:fbprophet:Making 1 forecasts with cutoffs between 2019-02-27 00:00:00 and 2019-02-27 00:00:00\n",
      "INFO:fbprophet:Disabling daily seasonality. Run prophet with daily_seasonality=True to override this.\n",
      "INFO:fbprophet:Making 1 forecasts with cutoffs between 2019-02-27 00:00:00 and 2019-02-27 00:00:00\n",
      "INFO:fbprophet:Disabling daily seasonality. Run prophet with daily_seasonality=True to override this.\n",
      "INFO:fbprophet:Making 1 forecasts with cutoffs between 2019-02-27 00:00:00 and 2019-02-27 00:00:00\n",
      "INFO:fbprophet:Disabling daily seasonality. Run prophet with daily_seasonality=True to override this.\n",
      "INFO:fbprophet:Making 1 forecasts with cutoffs between 2019-02-27 00:00:00 and 2019-02-27 00:00:00\n",
      "INFO:fbprophet:Disabling daily seasonality. Run prophet with daily_seasonality=True to override this.\n",
      "INFO:fbprophet:Making 1 forecasts with cutoffs between 2019-02-27 00:00:00 and 2019-02-27 00:00:00\n",
      "INFO:fbprophet:Disabling daily seasonality. Run prophet with daily_seasonality=True to override this.\n",
      "INFO:fbprophet:Making 1 forecasts with cutoffs between 2019-02-27 00:00:00 and 2019-02-27 00:00:00\n",
      "INFO:fbprophet:Disabling daily seasonality. Run prophet with daily_seasonality=True to override this.\n",
      "INFO:fbprophet:Making 1 forecasts with cutoffs between 2019-02-27 00:00:00 and 2019-02-27 00:00:00\n",
      "INFO:fbprophet:Disabling daily seasonality. Run prophet with daily_seasonality=True to override this.\n",
      "INFO:fbprophet:Making 1 forecasts with cutoffs between 2019-02-27 00:00:00 and 2019-02-27 00:00:00\n",
      "INFO:fbprophet:Disabling daily seasonality. Run prophet with daily_seasonality=True to override this.\n",
      "INFO:fbprophet:Making 1 forecasts with cutoffs between 2019-02-27 00:00:00 and 2019-02-27 00:00:00\n",
      "INFO:fbprophet:Disabling daily seasonality. Run prophet with daily_seasonality=True to override this.\n",
      "INFO:fbprophet:Making 1 forecasts with cutoffs between 2019-02-27 00:00:00 and 2019-02-27 00:00:00\n",
      "INFO:fbprophet:Disabling daily seasonality. Run prophet with daily_seasonality=True to override this.\n",
      "INFO:fbprophet:Making 1 forecasts with cutoffs between 2019-02-27 00:00:00 and 2019-02-27 00:00:00\n",
      "INFO:fbprophet:Disabling daily seasonality. Run prophet with daily_seasonality=True to override this.\n",
      "INFO:fbprophet:Making 1 forecasts with cutoffs between 2019-02-27 00:00:00 and 2019-02-27 00:00:00\n"
     ]
    },
    {
     "data": {
      "text/plain": [
       "[1.2634157481285602,\n",
       " 1.2620680200924121,\n",
       " 1.2640279344662053,\n",
       " 1.2633110616055945,\n",
       " 1.263915619336404,\n",
       " 1.2643540520009768,\n",
       " 1.2644148277086058,\n",
       " 1.2645091283076528,\n",
       " 1.264778931135505,\n",
       " 1.2648617249233622,\n",
       " 1.2649459353336554,\n",
       " 1.2649029818788646,\n",
       " 1.26489135800993,\n",
       " 1.2648719183877164,\n",
       " 1.2647011774711385,\n",
       " 1.2645419021560922]"
      ]
     },
     "execution_count": 237,
     "metadata": {},
     "output_type": "execute_result"
    }
   ],
   "source": [
    "y_replies= []\n",
    "avg_replies = []\n",
    "for val in x_replies:\n",
    "    m_promo_replies = Prophet(yearly_seasonality=True, changepoint_prior_scale=val)\n",
    "    m_promo_replies.fit(promo_retweet_df)\n",
    "    future_promo_replies = m_promo_replies.make_future_dataframe(periods=365)\n",
    "    forecast_promo_replies = m_promo_replies.predict(future_promo_replies)\n",
    "    df_cv_replies = cross_validation(m_promo_replies, initial='366 days', period='180 days', horizon = '365 days')\n",
    "    y_zipped_replies = zip(df_cv_replies[\"y\"], df_cv_replies[\"yhat\"])\n",
    "    for a,b in y_zipped_replies:\n",
    "        marg_error_replies = (a-b)/b\n",
    "        y_replies.append(abs(marg_error_replies))\n",
    "\n",
    "    avg_replies.append(mean(y_replies))\n",
    "    \n",
    "avg_replies"
   ]
  },
  {
   "cell_type": "markdown",
   "metadata": {},
   "source": [
    "#### Plot Changepoint Parameter vs Average Error Margin"
   ]
  },
  {
   "cell_type": "code",
   "execution_count": 238,
   "metadata": {},
   "outputs": [
    {
     "data": {
      "text/plain": [
       "Text(0, 0.5, 'Average Error Margin')"
      ]
     },
     "execution_count": 238,
     "metadata": {},
     "output_type": "execute_result"
    },
    {
     "data": {
      "image/png": "[encoded data removed]",
      "text/plain": [
       "<Figure size 432x288 with 1 Axes>"
      ]
     },
     "metadata": {
      "needs_background": "light"
     },
     "output_type": "display_data"
    }
   ],
   "source": [
    "plt.plot(x_replies,avg_replies)\n",
    "plt.title(\"Changepoint_prior values for Likes\")\n",
    "plt.xlabel(\"changepoint_prior values\")\n",
    "plt.ylabel(\"Average Error Margin\")"
   ]
  },
  {
   "cell_type": "markdown",
   "metadata": {},
   "source": [
    "For Replies, optimal changepoint value is 0.6"
   ]
  },
  {
   "cell_type": "code",
   "execution_count": null,
   "metadata": {},
   "outputs": [],
   "source": []
  }
 ],
 "metadata": {
  "kernelspec": {
   "display_name": "Python 3",
   "language": "python",
   "name": "python3"
  },
  "language_info": {
   "codemirror_mode": {
    "name": "ipython",
    "version": 3
   },
   "file_extension": ".py",
   "mimetype": "text/x-python",
   "name": "python",
   "nbconvert_exporter": "python",
   "pygments_lexer": "ipython3",
   "version": "3.7.4"
  }
 },
 "nbformat": 4,
 "nbformat_minor": 4
}
