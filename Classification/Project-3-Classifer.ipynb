{
 "cells": [
  {
   "cell_type": "markdown",
   "metadata": {},
   "source": [
    "# Machine Learning Mutliclassifier for Twitter Marketing Message Types\n",
    "**by Alex Gamboa, Vito Perez, and Gerard Tieng**\n",
    "\n",
    "For this project, we were able to access two years of native Twitter Analytics data from a Los Angeles-based marketing and networking expert with more than 10,000 followers. After understanding their brand, we manually sorted each tweet in the set and labeled each as one of their 4 core message types.\n",
    "- 1: Business & Promotionm\n",
    "- 2: Spotlights & Shoutouts\n",
    "- 3: Positivity & Wellness\n",
    "- 4: Replies\n",
    "\n",
    "In social media marketing, the person responsible for publishing a tweet may apply a metatag to the post in order to analyze the effectivenesss of the brand message as part of an overall campaign or similar types of messages in the past. In absence of such a person in our this case, we shall see if supervised machine learning plus Natural Langauge Processing libraries can correctly classify the text of any given tweet from their account into one of the four types.\n",
    "\n",
    "## Data Cleansing\n",
    "\n",
    "Before we begin to train our model, we'll need to clean the data. We'll import the Pandas library to load in our data and inspect it."
   ]
  },
  {
   "cell_type": "code",
   "execution_count": 1,
   "metadata": {},
   "outputs": [
    {
     "name": "stdout",
     "output_type": "stream",
     "text": [
      "<class 'pandas.core.frame.DataFrame'>\n",
      "RangeIndex: 10186 entries, 0 to 10185\n",
      "Data columns (total 19 columns):\n",
      "Unnamed: 0             10186 non-null int64\n",
      "Tweet permalink        10186 non-null object\n",
      "Tweet text             10186 non-null object\n",
      "Type                   10184 non-null float64\n",
      "time                   10186 non-null object\n",
      "impressions            10186 non-null float64\n",
      "engagements            10186 non-null float64\n",
      "engagement rate        10185 non-null float64\n",
      "retweets               10186 non-null float64\n",
      "replies                10186 non-null float64\n",
      "likes                  10186 non-null float64\n",
      "user profile clicks    10186 non-null float64\n",
      "url clicks             10186 non-null float64\n",
      "hashtag clicks         10186 non-null float64\n",
      "detail expands         10186 non-null float64\n",
      "permalink clicks       10186 non-null float64\n",
      "follows                10186 non-null int64\n",
      "media views            10186 non-null int64\n",
      "media engagements      10186 non-null int64\n",
      "dtypes: float64(12), int64(4), object(3)\n",
      "memory usage: 1.5+ MB\n"
     ]
    }
   ],
   "source": [
    "import warnings\n",
    "warnings.filterwarnings(\"ignore\")\n",
    "\n",
    "import pandas as pd\n",
    "df = pd.read_csv(\"resources/goldie_master_cleaned_0314.csv\")\n",
    "df.info()"
   ]
  },
  {
   "cell_type": "markdown",
   "metadata": {},
   "source": [
    "Well make sure to drop any null values before working with the set (2 rows), then we'll slice out the only relevant columns for machine learning (\"Tweet text\" & \"Type\"). We'll rename these columns for simplicity and then reset the index for order."
   ]
  },
  {
   "cell_type": "code",
   "execution_count": 2,
   "metadata": {},
   "outputs": [
    {
     "data": {
      "text/html": [
       "<div>\n",
       "<style scoped>\n",
       "    .dataframe tbody tr th:only-of-type {\n",
       "        vertical-align: middle;\n",
       "    }\n",
       "\n",
       "    .dataframe tbody tr th {\n",
       "        vertical-align: top;\n",
       "    }\n",
       "\n",
       "    .dataframe thead th {\n",
       "        text-align: right;\n",
       "    }\n",
       "</style>\n",
       "<table border=\"1\" class=\"dataframe\">\n",
       "  <thead>\n",
       "    <tr style=\"text-align: right;\">\n",
       "      <th></th>\n",
       "      <th>text</th>\n",
       "      <th>class</th>\n",
       "    </tr>\n",
       "  </thead>\n",
       "  <tbody>\n",
       "    <tr>\n",
       "      <td>0</td>\n",
       "      <td>HAPPY NEW YEAR 🎉\\nMay all your dreams come tru...</td>\n",
       "      <td>2.0</td>\n",
       "    </tr>\n",
       "    <tr>\n",
       "      <td>1</td>\n",
       "      <td>“I've learned that you shouldn't go through li...</td>\n",
       "      <td>3.0</td>\n",
       "    </tr>\n",
       "    <tr>\n",
       "      <td>2</td>\n",
       "      <td>This 👇 https://t.co/4niBsvseUQ</td>\n",
       "      <td>1.0</td>\n",
       "    </tr>\n",
       "    <tr>\n",
       "      <td>3</td>\n",
       "      <td>Where should I go next? #travel https://t.co/D...</td>\n",
       "      <td>3.0</td>\n",
       "    </tr>\n",
       "    <tr>\n",
       "      <td>4</td>\n",
       "      <td>DONE with first day of #work back. Current fee...</td>\n",
       "      <td>2.0</td>\n",
       "    </tr>\n",
       "  </tbody>\n",
       "</table>\n",
       "</div>"
      ],
      "text/plain": [
       "                                                text  class\n",
       "0  HAPPY NEW YEAR 🎉\\nMay all your dreams come tru...    2.0\n",
       "1  “I've learned that you shouldn't go through li...    3.0\n",
       "2                     This 👇 https://t.co/4niBsvseUQ    1.0\n",
       "3  Where should I go next? #travel https://t.co/D...    3.0\n",
       "4  DONE with first day of #work back. Current fee...    2.0"
      ]
     },
     "execution_count": 2,
     "metadata": {},
     "output_type": "execute_result"
    }
   ],
   "source": [
    "df= df.dropna()\n",
    "df = df[[\"Tweet text\", \"Type\"]]\n",
    "df = df.rename(columns={\"Tweet text\":\"text\", \"Type\":\"class\"})\n",
    "df = df.reset_index(drop=True)\n",
    "df.head()"
   ]
  },
  {
   "cell_type": "markdown",
   "metadata": {},
   "source": [
    "Upon this initial inspection, we see that there are many strings in the dataset that would be considered non-words and symbols (like emojis, hashtags, and links) and scrambled in future Tokenization and Stemming steps. We'll use regular expression to remove these strings. Below, we'll loop through the \"text\" columns to match and eliminate raw [url strings](http://www.google.com) , #hashtags and @mentions."
   ]
  },
  {
   "cell_type": "code",
   "execution_count": 3,
   "metadata": {},
   "outputs": [
    {
     "data": {
      "text/html": [
       "<div>\n",
       "<style scoped>\n",
       "    .dataframe tbody tr th:only-of-type {\n",
       "        vertical-align: middle;\n",
       "    }\n",
       "\n",
       "    .dataframe tbody tr th {\n",
       "        vertical-align: top;\n",
       "    }\n",
       "\n",
       "    .dataframe thead th {\n",
       "        text-align: right;\n",
       "    }\n",
       "</style>\n",
       "<table border=\"1\" class=\"dataframe\">\n",
       "  <thead>\n",
       "    <tr style=\"text-align: right;\">\n",
       "      <th></th>\n",
       "      <th>text</th>\n",
       "      <th>class</th>\n",
       "    </tr>\n",
       "  </thead>\n",
       "  <tbody>\n",
       "    <tr>\n",
       "      <td>0</td>\n",
       "      <td>HAPPY NEW YEAR May all your dreams come true i...</td>\n",
       "      <td>2.0</td>\n",
       "    </tr>\n",
       "    <tr>\n",
       "      <td>1</td>\n",
       "      <td>I've learned that you shouldn't go through lif...</td>\n",
       "      <td>3.0</td>\n",
       "    </tr>\n",
       "    <tr>\n",
       "      <td>2</td>\n",
       "      <td>This</td>\n",
       "      <td>1.0</td>\n",
       "    </tr>\n",
       "    <tr>\n",
       "      <td>3</td>\n",
       "      <td>Where should I go next? travel</td>\n",
       "      <td>3.0</td>\n",
       "    </tr>\n",
       "    <tr>\n",
       "      <td>4</td>\n",
       "      <td>DONE with first day of work back. Current feel...</td>\n",
       "      <td>2.0</td>\n",
       "    </tr>\n",
       "  </tbody>\n",
       "</table>\n",
       "</div>"
      ],
      "text/plain": [
       "                                                text  class\n",
       "0  HAPPY NEW YEAR May all your dreams come true i...    2.0\n",
       "1  I've learned that you shouldn't go through lif...    3.0\n",
       "2                                             This      1.0\n",
       "3                    Where should I go next? travel     3.0\n",
       "4  DONE with first day of work back. Current feel...    2.0"
      ]
     },
     "execution_count": 3,
     "metadata": {},
     "output_type": "execute_result"
    }
   ],
   "source": [
    "#compiles list of non-emoji symbols\n",
    "non_emoji = [letter for letter in \"\\\\\\'\\\"1234567890abcdefghijklmnopqrstuvwxyzABCDEFGHIJKLMNOPQRSTUVWXYZ`~!@#$%^&*()-_=+[{]}|,<.>/?\"]\n",
    "\n",
    "\n",
    "import re\n",
    "for i in range(df.shape[0]):\n",
    "    \n",
    "    dirty = df.iloc[i,0]\n",
    "    dirty = re.sub(\"https\\S+\", \"\", dirty) #links\n",
    "    dirty = re.sub(\"@\\S+\", \"\", dirty) #@mentions\n",
    "    dirty = re.sub(\"&amp\", \"\", dirty) #ampersands\n",
    "    dirty = re.sub(\"\\n\", \"\", dirty) #newline\n",
    "    clean = re.sub(\"#\", \"\", dirty) #hashtags\n",
    "    \n",
    "    sentence = clean.split()\n",
    "    for words in sentence:\n",
    "        for letters in words:\n",
    "            if letters not in non_emoji:\n",
    "                clean = clean.replace(letters, \"\") #emojis\n",
    "    \n",
    "    df.iloc[i,0] = clean\n",
    "    \n",
    "df.head()"
   ]
  },
  {
   "cell_type": "markdown",
   "metadata": {},
   "source": [
    "## Machine Learning Pre-Processing"
   ]
  },
  {
   "cell_type": "markdown",
   "metadata": {},
   "source": [
    "Next, we will be performing 1 of 2 final string transformations before training the model. In the following code, the PorterStemmer() function will be used to consolidate related words into root strings (e.g. happy, happiness = \"happi\") for a more accurate and streamlined representation in the word vector we'll generate later. Meanwhile, Stopwords is a common filter for non-essential words (i.e. \"the\" and \"a\").\n",
    "\n",
    "With the following code, we'll split apart each of the tweets into individual words and stem each word before assembling the full tweet back together as a \"cleaned\" string."
   ]
  },
  {
   "cell_type": "code",
   "execution_count": 4,
   "metadata": {},
   "outputs": [
    {
     "data": {
      "text/html": [
       "<div>\n",
       "<style scoped>\n",
       "    .dataframe tbody tr th:only-of-type {\n",
       "        vertical-align: middle;\n",
       "    }\n",
       "\n",
       "    .dataframe tbody tr th {\n",
       "        vertical-align: top;\n",
       "    }\n",
       "\n",
       "    .dataframe thead th {\n",
       "        text-align: right;\n",
       "    }\n",
       "</style>\n",
       "<table border=\"1\" class=\"dataframe\">\n",
       "  <thead>\n",
       "    <tr style=\"text-align: right;\">\n",
       "      <th></th>\n",
       "      <th>text</th>\n",
       "      <th>class</th>\n",
       "      <th>cleaned</th>\n",
       "    </tr>\n",
       "  </thead>\n",
       "  <tbody>\n",
       "    <tr>\n",
       "      <td>0</td>\n",
       "      <td>HAPPY NEW YEAR May all your dreams come true i...</td>\n",
       "      <td>2.0</td>\n",
       "      <td>happi new year may dream come true</td>\n",
       "    </tr>\n",
       "    <tr>\n",
       "      <td>1</td>\n",
       "      <td>I've learned that you shouldn't go through lif...</td>\n",
       "      <td>3.0</td>\n",
       "      <td>ive learn go life catcher mitt hand need abl t...</td>\n",
       "    </tr>\n",
       "    <tr>\n",
       "      <td>2</td>\n",
       "      <td>This</td>\n",
       "      <td>1.0</td>\n",
       "      <td>thi</td>\n",
       "    </tr>\n",
       "    <tr>\n",
       "      <td>3</td>\n",
       "      <td>Where should I go next? travel</td>\n",
       "      <td>3.0</td>\n",
       "      <td>where i go next travel</td>\n",
       "    </tr>\n",
       "    <tr>\n",
       "      <td>4</td>\n",
       "      <td>DONE with first day of work back. Current feel...</td>\n",
       "      <td>2.0</td>\n",
       "      <td>done first day work back current feel</td>\n",
       "    </tr>\n",
       "  </tbody>\n",
       "</table>\n",
       "</div>"
      ],
      "text/plain": [
       "                                                text  class  \\\n",
       "0  HAPPY NEW YEAR May all your dreams come true i...    2.0   \n",
       "1  I've learned that you shouldn't go through lif...    3.0   \n",
       "2                                             This      1.0   \n",
       "3                    Where should I go next? travel     3.0   \n",
       "4  DONE with first day of work back. Current feel...    2.0   \n",
       "\n",
       "                                             cleaned  \n",
       "0                happi new year may dream come true   \n",
       "1  ive learn go life catcher mitt hand need abl t...  \n",
       "2                                                thi  \n",
       "3                             where i go next travel  \n",
       "4             done first day work back current feel   "
      ]
     },
     "execution_count": 4,
     "metadata": {},
     "output_type": "execute_result"
    }
   ],
   "source": [
    "#Natural Language Toolkit for NLP processing\n",
    "import nltk\n",
    "from nltk.corpus import stopwords\n",
    "from nltk.stem import PorterStemmer\n",
    "import re\n",
    "\n",
    "stemmer = PorterStemmer()\n",
    "words = stopwords.words(\"english\")\n",
    "\n",
    "def machine_ready(tweet):\n",
    "    tweet = tweet.split()\n",
    "    ready = []\n",
    "    for elements in tweet:\n",
    "        if elements not in words:\n",
    "            elements = re.sub(\"[^a-zA-Z]\", \"\", elements) #remove punctuation\n",
    "            elements = stemmer.stem(elements) #stem words\n",
    "            elements = elements.lower() #lowercase words\n",
    "            ready.append(elements)\n",
    "    return \" \".join(ready)\n",
    "\n",
    "df[\"cleaned\"] = df[\"text\"].apply(machine_ready)\n",
    "df.head()"
   ]
  },
  {
   "cell_type": "code",
   "execution_count": 5,
   "metadata": {},
   "outputs": [],
   "source": [
    "#standard data libraries\n",
    "import numpy as np\n",
    "import matplotlib.pyplot as plt\n",
    "%matplotlib inline\n",
    "\n",
    "#scikit-learn for Machine Learning algorithms\n",
    "\n",
    "from sklearn.pipeline import Pipeline\n",
    "from sklearn.metrics import classification_report, confusion_matrix\n",
    "from sklearn.model_selection import train_test_split\n",
    "from sklearn.feature_selection import SelectKBest, chi2\n",
    "from sklearn.ensemble import RandomForestClassifier\n",
    "\n",
    "#pickle for algorithm export\n",
    "import pickle"
   ]
  },
  {
   "cell_type": "markdown",
   "metadata": {},
   "source": [
    "Finally, we'll use sklearn's Vectorizor to convert the contents of each tweet as an array notating the appearances of each word for use in machine learning."
   ]
  },
  {
   "cell_type": "code",
   "execution_count": 6,
   "metadata": {},
   "outputs": [
    {
     "data": {
      "text/plain": [
       "(10183, 8596)"
      ]
     },
     "execution_count": 6,
     "metadata": {},
     "output_type": "execute_result"
    }
   ],
   "source": [
    "from sklearn.feature_extraction.text import TfidfVectorizer\n",
    "\n",
    "vectorizer = TfidfVectorizer(stop_words=\"english\")\n",
    "features = vectorizer.fit_transform(df['cleaned']).toarray()\n",
    "features.shape"
   ]
  },
  {
   "cell_type": "markdown",
   "metadata": {},
   "source": [
    "## Machine Learning\n",
    "\n",
    "Before training our model, the dataset will need to be vectorized as an array in order for computers to process language. Each unique word (in our case 8500+ of them) will be represented in its own position in the vector, the combination of which forms the entire tweet."
   ]
  },
  {
   "cell_type": "code",
   "execution_count": 7,
   "metadata": {},
   "outputs": [],
   "source": [
    "from sklearn.model_selection import train_test_split\n",
    "\n",
    "X = features\n",
    "y = df[\"class\"]\n",
    "\n",
    "X_train, X_test, y_train, y_test = train_test_split(X, y, test_size=0.25)"
   ]
  },
  {
   "cell_type": "markdown",
   "metadata": {},
   "source": [
    "For this project, we'll be comparing the use 4 different model algorithms to see which is best used to predict our project's 4 core message types. Using Pipeline will help us keep track of the models used along with the Kbest priority feature selector."
   ]
  },
  {
   "cell_type": "code",
   "execution_count": 8,
   "metadata": {},
   "outputs": [
    {
     "name": "stdout",
     "output_type": "stream",
     "text": [
      "train scores\n",
      "{'lr': 0.51, 'rfc': 0.62, 'mnb': 0.49, 'lsvc': 0.52}\n",
      "test scores\n",
      "{'lr': 0.53, 'rfc': 0.52, 'mnb': 0.51, 'lsvc': 0.53}\n"
     ]
    }
   ],
   "source": [
    "from sklearn.pipeline import Pipeline\n",
    "from sklearn.linear_model import LogisticRegression\n",
    "from sklearn.ensemble import RandomForestClassifier\n",
    "from sklearn.naive_bayes import MultinomialNB\n",
    "from sklearn.svm import LinearSVC\n",
    "\n",
    "\n",
    "lr = Pipeline([('chi',  SelectKBest(chi2, k=20)),\n",
    "                     ('clf', LogisticRegression())])\n",
    "rfc = Pipeline([('chi',  SelectKBest(chi2, k=20)),\n",
    "                     ('clf', RandomForestClassifier())])\n",
    "mnb = Pipeline([('chi',  SelectKBest(chi2, k=20)),\n",
    "                     ('clf', MultinomialNB())])\n",
    "lsvc = Pipeline([('chi',  SelectKBest(chi2, k=20)),\n",
    "                     ('clf', LinearSVC())])\n",
    "\n",
    "\n",
    "models = [lr, rfc, mnb, lsvc]\n",
    "model_name = [\"lr\", \"rfc\", \"mnb\", \"lsvc\"]\n",
    "\n",
    "model_train_score= {}\n",
    "model_test_score= {}\n",
    "\n",
    "\n",
    "for i in range(len(models)):\n",
    "    model_fit = models[i].fit(X_train, y_train)\n",
    "    \n",
    "    train_score = model_fit.score(X_train, y_train)\n",
    "    test_score = model_fit.score(X_test, y_test)\n",
    "    \n",
    "    model_train_score[model_name[i]] = round(train_score, 2)\n",
    "    model_test_score[model_name[i]] = round(test_score, 2)\n",
    "\n",
    "print(\"train scores\")\n",
    "print(model_train_score)\n",
    "print(\"test scores\")\n",
    "print(model_test_score)"
   ]
  },
  {
   "cell_type": "markdown",
   "metadata": {},
   "source": [
    "Random Forest Classifier appears to be the most accurate of all the models, though the classifier is only right about half the time in any scenario. Interestingly, when looking at the distribution of the values, about half of the tweets in the dataset belong in the Class 4 category. In the next section, we'll export the algorithm and validate our findings."
   ]
  },
  {
   "cell_type": "code",
   "execution_count": 9,
   "metadata": {},
   "outputs": [
    {
     "data": {
      "text/plain": [
       "Text(0,0.5,'Count')"
      ]
     },
     "execution_count": 9,
     "metadata": {},
     "output_type": "execute_result"
    },
    {
     "data": {
      "image/png": "[encoded data removed]",
      "text/plain": [
       "<Figure size 432x288 with 1 Axes>"
      ]
     },
     "metadata": {
      "needs_background": "light"
     },
     "output_type": "display_data"
    }
   ],
   "source": [
    "plt.bar([1,2,3,4], df[\"class\"].value_counts().sort_index())\n",
    "plt.title(\"Tweet Class Distribution\")\n",
    "plt.xlabel(\"Class\")\n",
    "plt.xticks([1,2,3,4])\n",
    "plt.ylabel(\"Count\")"
   ]
  },
  {
   "cell_type": "markdown",
   "metadata": {},
   "source": [
    "## Exporting the Algorithm for Use & Verification\n",
    "\n",
    "With the pickle library, Python allows us to export the algorithm to a file. In this instance, we'll choose our most accurate one to export."
   ]
  },
  {
   "cell_type": "code",
   "execution_count": 10,
   "metadata": {},
   "outputs": [],
   "source": [
    "with open('rfc.pickle', 'wb') as f:\n",
    "    pickle.dump(rfc, f)"
   ]
  },
  {
   "cell_type": "markdown",
   "metadata": {},
   "source": [
    "We'll program a custom classify function to accept the tweet string, filter it through the classifer, and return the result."
   ]
  },
  {
   "cell_type": "code",
   "execution_count": 11,
   "metadata": {},
   "outputs": [],
   "source": [
    "pickle_load = open('rfc.pickle', 'rb')\n",
    "clf = pickle.load(pickle_load)\n",
    "\n",
    "def classify(string):\n",
    "    non_emoji = [letter for letter in \"\\\\\\'\\\"1234567890abcdefghijklmnopqrstuvwxyzABCDEFGHIJKLMNOPQRSTUVWXYZ`~!@#$%^&*()-_=+[{]}|,<.>/?\"]\n",
    "    for i in string:\n",
    "        dirty = str(string)\n",
    "        dirty = re.sub(\"https\\S+\", \"\", dirty) #links\n",
    "        dirty = re.sub(\"@\\S+\", \"\", dirty) #@mentions\n",
    "        dirty = re.sub(\"&amp\", \"\", dirty) #ampersands\n",
    "        dirty = re.sub(\"\\n\", \"\", dirty) #newline\n",
    "        clean = re.sub(\"#\", \"\", dirty) #hashtags\n",
    "    \n",
    "        sentence = clean.split()\n",
    "        for words in sentence:\n",
    "            for letters in words:\n",
    "                if letters not in non_emoji:\n",
    "                    clean = clean.replace(letters, \"\") #emojis\n",
    "                    \n",
    "        tweet = clean.split()\n",
    "        ready = []\n",
    "        \n",
    "        for elements in tweet:\n",
    "            if elements not in words:\n",
    "                elements = re.sub(\"[^a-zA-Z]\", \"\", elements) #remove punctuation\n",
    "                elements = stemmer.stem(elements) #stem words\n",
    "                elements = elements.lower() #lowercase words\n",
    "                ready.append(elements)\n",
    "        tweet = \" \".join(ready)\n",
    "\n",
    "        pred = clf.predict(vectorizer.transform([tweet]))[0]\n",
    "        return pred"
   ]
  },
  {
   "cell_type": "markdown",
   "metadata": {},
   "source": [
    "We'll use 100 tweets from March which has never before been used in testing or training to validate the data."
   ]
  },
  {
   "cell_type": "code",
   "execution_count": 12,
   "metadata": {},
   "outputs": [],
   "source": [
    "march = pd.read_csv(\"resources/goldie_march.csv\")"
   ]
  },
  {
   "cell_type": "code",
   "execution_count": 20,
   "metadata": {},
   "outputs": [],
   "source": [
    "march = march[[\"Tweet text\", \"Type\"]]\n",
    "march = march.rename(columns={\"Tweet text\": \"text\", \"Type\": \"class\"})"
   ]
  },
  {
   "cell_type": "code",
   "execution_count": 22,
   "metadata": {},
   "outputs": [],
   "source": [
    "march[\"predictions\"] = march[\"text\"].apply(classify)"
   ]
  },
  {
   "cell_type": "markdown",
   "metadata": {},
   "source": [
    "According to the bar plots below, the classifier isn't near the 50% projected accuracy of our algorithm for this set."
   ]
  },
  {
   "cell_type": "code",
   "execution_count": 45,
   "metadata": {},
   "outputs": [
    {
     "data": {
      "text/plain": [
       "(0, 100)"
      ]
     },
     "execution_count": 45,
     "metadata": {},
     "output_type": "execute_result"
    },
    {
     "data": {
      "image/png": "[encoded data removed]",
      "text/plain": [
       "<Figure size 1080x360 with 2 Axes>"
      ]
     },
     "metadata": {
      "needs_background": "light"
     },
     "output_type": "display_data"
    }
   ],
   "source": [
    "#actual for March Data\n",
    "plt.figure(figsize=(15,5))\n",
    "plt.subplot(1,2,1)\n",
    "plt.bar([1,2,3,4], march[\"class\"].value_counts().sort_index())\n",
    "plt.title(\"Class\")\n",
    "plt.xticks([1,2,3,4])\n",
    "plt.ylim(0,100)\n",
    "\n",
    "#predicted for March data\n",
    "plt.subplot(1,2,2)\n",
    "plt.bar([1,2,3,4], march[\"predictions\"].value_counts().sort_index())\n",
    "plt.title(\"Predicted\")\n",
    "plt.xticks([1,2,3,4])\n",
    "plt.ylim(0,100)"
   ]
  },
  {
   "cell_type": "markdown",
   "metadata": {},
   "source": [
    "We have a theory that the unexpected topical shift to COVID-19 during March 2020 for our subject may be affecting the classifier from correctly identifying the correct category."
   ]
  },
  {
   "cell_type": "markdown",
   "metadata": {},
   "source": [
    "## Considering Other Models\n",
    "\n",
    "In further research and experimentation, Latent Dirichlet Allocation (LDA) had been identified as a potential solution for the classification our data via unsuperivised topic modeling. The following code from this [source](https://towardsdatascience.com/end-to-end-topic-modeling-in-python-latent-dirichlet-allocation-lda-35ce4ed6b3e0) displays information including popular terms and the relationships of such terms to others to form patterns in potential topics."
   ]
  },
  {
   "cell_type": "code",
   "execution_count": 50,
   "metadata": {},
   "outputs": [
    {
     "data": {
      "image/png": "[encoded data removed]",
      "text/plain": [
       "<Figure size 1080x360 with 1 Axes>"
      ]
     },
     "metadata": {},
     "output_type": "display_data"
    }
   ],
   "source": [
    "import seaborn as sns\n",
    "sns.set_style('whitegrid')\n",
    "# Helper function\n",
    "def plot_10_most_common_words(count_data, count_vectorizer):\n",
    "    import matplotlib.pyplot as plt\n",
    "    words = count_vectorizer.get_feature_names()\n",
    "    total_counts = np.zeros(len(words))\n",
    "    for t in count_data:\n",
    "        total_counts+=t.toarray()[0]\n",
    "    \n",
    "    count_dict = (zip(words, total_counts))\n",
    "    count_dict = sorted(count_dict, key=lambda x:x[1], reverse=True)[0:10]\n",
    "    words = [w[0] for w in count_dict]\n",
    "    counts = [w[1] for w in count_dict]\n",
    "    x_pos = np.arange(len(words)) \n",
    "    \n",
    "    plt.figure(2, figsize=(15, 5))\n",
    "    plt.subplot(title='10 most common words')\n",
    "    sns.set_context(\"notebook\", font_scale=1.25, rc={\"lines.linewidth\": 2})\n",
    "    sns.barplot(x_pos, counts)\n",
    "    plt.xticks(x_pos, words, rotation=90) \n",
    "    plt.xlabel('words')\n",
    "    plt.ylabel('counts')\n",
    "    plt.show()\n",
    "\n",
    "# Fit and transform the processed titles\n",
    "count_data = vectorizer.fit_transform(df['text'])\n",
    "# Visualise the 10 most common words\n",
    "plot_10_most_common_words(count_data, vectorizer)"
   ]
  },
  {
   "cell_type": "markdown",
   "metadata": {},
   "source": [
    "Unsupervised training has naturally segmented a few popular topics from the dataset including themes like LinkedIn, DnD & Adobe (Class 1), gratitude content (Class 2), but no easily visible tweets from Class 3 (positivity) & 4 (replies)."
   ]
  },
  {
   "cell_type": "code",
   "execution_count": 53,
   "metadata": {},
   "outputs": [
    {
     "name": "stdout",
     "output_type": "stream",
     "text": [
      "Topics found via LDA:\n",
      "\n",
      "Topic #0:\n",
      "dm send pls congrats adobeinsiders life shoot video awnewyork heart\n",
      "\n",
      "Topic #1:\n",
      "millennialtalk got winniesun today love just awesome year think linkedin\n",
      "\n",
      "Topic #2:\n",
      "adobesummit yep right woo happy ooo brand bday people john\n",
      "\n",
      "Topic #3:\n",
      "thank amazing omg hahaha cute love let lol sis people\n",
      "\n",
      "Topic #4:\n",
      "hi time wait say love friends ok thing feel new\n",
      "\n",
      "Topic #5:\n",
      "good did real just going ll love learn make like\n",
      "\n",
      "Topic #6:\n",
      "yes followed true sweet worth kerry time value based listen\n",
      "\n",
      "Topic #7:\n",
      "fun adobemax like nasasocial hello lets new sounds hahahaha just\n",
      "\n",
      "Topic #8:\n",
      "lovely wow youre content know soon oh thank hope think\n",
      "\n",
      "Topic #9:\n",
      "thanks sharing aww yay thank proud mention yup article new\n"
     ]
    }
   ],
   "source": [
    "# Load the LDA model from sk-learn\n",
    "from sklearn.decomposition import LatentDirichletAllocation as LDA\n",
    " \n",
    "# Helper function\n",
    "def print_topics(model, vectorizer, n_top_words):\n",
    "    words = vectorizer.get_feature_names()\n",
    "    for topic_idx, topic in enumerate(model.components_):\n",
    "        print(\"\\nTopic #%d:\" % topic_idx)\n",
    "        print(\" \".join([words[i]\n",
    "                        for i in topic.argsort()[:-n_top_words - 1:-1]]))\n",
    "        \n",
    "# Tweak the two parameters below\n",
    "number_topics = 10\n",
    "number_words = 10\n",
    "# Create and fit the LDA model\n",
    "lda = LDA(n_components=number_topics, n_jobs=-1)\n",
    "lda.fit(count_data)\n",
    "# Print the topics found by the LDA model\n",
    "print(\"Topics found via LDA:\")\n",
    "print_topics(lda, vectorizer, number_words)"
   ]
  },
  {
   "cell_type": "markdown",
   "metadata": {},
   "source": [
    "## Conclusion"
   ]
  },
  {
   "cell_type": "markdown",
   "metadata": {},
   "source": [
    "While not an impossible task, classifying tweets appears to be a difficult one. Unlike a traditional string expression, such as e-mail and product reviews, conversations on the Twitter platform can be very unique and varied (e.g. the contextual use of images/gifs/emoji, codeshifting between one-to-one and one-to-many type of conversations, and the infinite combinations of topics that could take place on any given day). We anticipate a more accurate model could be created with more training data and more disciplined style of writing under the identified classes."
   ]
  }
 ],
 "metadata": {
  "kernelspec": {
   "display_name": "Python 3",
   "language": "python",
   "name": "python3"
  },
  "language_info": {
   "codemirror_mode": {
    "name": "ipython",
    "version": 3
   },
   "file_extension": ".py",
   "mimetype": "text/x-python",
   "name": "python",
   "nbconvert_exporter": "python",
   "pygments_lexer": "ipython3",
   "version": "3.7.4"
  }
 },
 "nbformat": 4,
 "nbformat_minor": 2
}
